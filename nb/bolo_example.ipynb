{
 "cells": [
  {
   "cell_type": "markdown",
   "id": "restricted-bernard",
   "metadata": {},
   "source": [
    "# Example notebook for bolo-calc\n",
    "\n",
    "In this notebook we will\n",
    "  1. Use a configuration file to build a bolo python data structure\n",
    "  2. Explore the resulting data structure and how we can modifiy it\n",
    "  3. Run the analysis and look at the output"
   ]
  },
  {
   "cell_type": "markdown",
   "id": "given-memorial",
   "metadata": {},
   "source": [
    "## Basics"
   ]
  },
  {
   "cell_type": "code",
   "execution_count": 1,
   "id": "satellite-christian",
   "metadata": {},
   "outputs": [],
   "source": [
    "# Standard imports\n",
    "import numpy as np\n",
    "import yaml\n",
    "import matplotlib\n",
    "import matplotlib.pyplot as plt\n",
    "%matplotlib inline  \n",
    "from bolo import Top"
   ]
  },
  {
   "cell_type": "markdown",
   "id": "through-indiana",
   "metadata": {},
   "source": [
    "#### Read a yaml file into a python dictionary"
   ]
  },
  {
   "cell_type": "code",
   "execution_count": 2,
   "id": "solved-basics",
   "metadata": {},
   "outputs": [
    {
     "data": {
      "text/plain": [
       "{'sim_config': {'nsky_sim': 50,\n",
       "  'ndet_sim': 50,\n",
       "  'save_summary': True,\n",
       "  'save_sim': True,\n",
       "  'config_dir': 'config'},\n",
       " 'universe': {'dust': {'spectral_index': 1.5,\n",
       "   'amplitude': 0.012,\n",
       "   'scale_frequency': 353.0,\n",
       "   'scale_temperature': {'var_type': 'pdf',\n",
       "    'fname': 'Pdf/dustTemperature.txt'}},\n",
       "  'synchrotron': {'spectral_index': -3.0,\n",
       "   'amplitude': 0.0002,\n",
       "   'scale_frequency': 30.0},\n",
       "  'atmosphere': {'atm_model_file': 'atm_20201217.hdf5'}},\n",
       " 'instrument': {'site': 'Atacama',\n",
       "  'sky_temp': 'None',\n",
       "  'elevation': 50.0,\n",
       "  'pwv': {'var_type': 'pdf', 'fname': 'Pdf/pwv.txt'},\n",
       "  'obs_time': 5.0,\n",
       "  'sky_fraction': 0.2,\n",
       "  'obs_effic': {'var_type': 'pdf', 'fname': 'Pdf/observationEfficiency.txt'},\n",
       "  'NET': 1.0,\n",
       "  'readout': {'read_noise_frac': 0.1,\n",
       "   'dwell_time': 'None',\n",
       "   'revisit_rate': 'None'},\n",
       "  'optics_config': {'default': {'temperature': 273.0,\n",
       "    'reflection': 0.0,\n",
       "    'scatter_frac': 0.0,\n",
       "    'spillover': 0.0},\n",
       "   'elements': {'primary': {'obj_type': 'Mirror',\n",
       "     'temperature': 273.0,\n",
       "     'absorption': 0.002,\n",
       "     'spillover': 0.01},\n",
       "    'mirror': {'obj_type': 'Mirror',\n",
       "     'temperature': 273.0,\n",
       "     'absorption': 0.002},\n",
       "    'window': {'temperature': {'var_type': 'pdf',\n",
       "      'fname': 'Pdf/Window_temperature.txt'},\n",
       "     'absorption': 0.005,\n",
       "     'reflection': {'var_type': 'dist',\n",
       "      'fname': 'Bands/Optics/Window_reflection.txt'},\n",
       "     'spillover': 0.02,\n",
       "     'scatter_frac': {'var_type': 'dist',\n",
       "      'fname': 'Bands/Optics/Window_scatterFrac.txt'}},\n",
       "    'IRshader1': {'temperature': 291, 'absorption': 0.001},\n",
       "    'IRshader2': {'temperature': 245.0, 'absorption': 0.001},\n",
       "    'IRshader3': {'temperature': 200.0, 'absorption': 0.001},\n",
       "    'abs_filter': {'temperature': 90.0,\n",
       "     'absorption': 0.01,\n",
       "     'reflection': 0.02},\n",
       "    'low_pass1': {'temperature': 40.0, 'absorption': 0.01, 'reflection': 0.05},\n",
       "    'lens1': {'temperature': 4.0, 'absorption': 0.01, 'reflection': 0.005},\n",
       "    'low_pass2': {'temperature': 4.0, 'absorption': 0.01, 'reflection': 0.05},\n",
       "    'lens2': {'temperature': 2.0, 'absorption': 0.005, 'reflection': 0.005},\n",
       "    'aperture': {'obj_type': 'ApertureStop',\n",
       "     'absorption': 0.0,\n",
       "     'temperature': 2.0},\n",
       "    'low_pass3': {'temperature': 2.0, 'absorption': 0.01, 'reflection': 0.05},\n",
       "    'lens3': {'temperature': 2.0, 'absorption': 0.005, 'reflection': 0.005},\n",
       "    'low_pass4': {'temperature': 1.5,\n",
       "     'absorption': 0.01,\n",
       "     'reflection': 0.05}}},\n",
       "  'channel_default': {'band_center': 100.0,\n",
       "   'fractional_bandwidth': 0.35,\n",
       "   'band_response': 1.0,\n",
       "   'pixel_size': 6.8,\n",
       "   'num_det_per_water': 542,\n",
       "   'num_wafer_per_optics_tube': 1,\n",
       "   'num_optics_tube': 3,\n",
       "   'waist_factor': 3,\n",
       "   'det_eff': 1.0,\n",
       "   'psat': 'None',\n",
       "   'psat_factor': 3.0,\n",
       "   'carrier_index': 3,\n",
       "   'Tc': 0.165,\n",
       "   'Tc_fraction': 'None',\n",
       "   'G': 'None',\n",
       "   'Flink': 'None',\n",
       "   'Yield': 0.7,\n",
       "   'response_factor': 1.0,\n",
       "   'bolo_resistance': 'None',\n",
       "   'squid_nei': 'None',\n",
       "   'read_frac': 'None',\n",
       "   'nyquist_inductance': 'None'},\n",
       "  'camera_config': {'default': {'boresite_elevation': 0,\n",
       "    'optical_coupling': 1,\n",
       "    'f_number': 2.5,\n",
       "    'bath_temperature': 0.1},\n",
       "   'elements': {'cam_1': {'skip_optical_elements': [],\n",
       "     'chan_config': {'elements': {'chan_1': {'band_center': 100.0,\n",
       "        'det_eff': {'var_type': 'pdf', 'fname': 'Pdf/detEff_1.txt'},\n",
       "        'band_response': {'var_type': 'dist', 'fname': 'Bands/Cam_1.txt'},\n",
       "        'read_frac': 0.1},\n",
       "       'chan_2': {'band_center': 150.0,\n",
       "        'fractional_bandwidth': 0.35,\n",
       "        'response_factor': 1.41,\n",
       "        'det_eff': {'var_type': 'pdf', 'fname': 'Pdf/detEff_2.txt'},\n",
       "        'squid_nei': {'var_type': 'pdf', 'fname': 'Pdf/squidNEI_2.txt'},\n",
       "        'bolo_resistance': {'var_type': 'gauss', 'value': 1.0, 'errors': 0.1},\n",
       "        'read_frac': 'None'}}}},\n",
       "    'cam_2': {'skip_optical_elements': [],\n",
       "     'chan_config': {'elements': {'chan_1': {'band_center': 100.0,\n",
       "        'det_eff': {'var_type': 'pdf', 'fname': 'Pdf/detEff_1.txt'},\n",
       "        'band_response': {'var_type': 'dist', 'fname': 'Bands/Cam_1.txt'},\n",
       "        'read_frac': 0.1},\n",
       "       'chan_2': {'band_center': 150.0,\n",
       "        'fractional_bandwidth': 0.35,\n",
       "        'response_factor': 1.41,\n",
       "        'det_eff': {'var_type': 'pdf', 'fname': 'Pdf/detEff_2.txt'},\n",
       "        'squid_nei': {'var_type': 'pdf', 'fname': 'Pdf/squidNEI_2.txt'},\n",
       "        'bolo_resistance': {'var_type': 'gauss', 'value': 1.0, 'errors': 0.1},\n",
       "        'read_frac': 'None'}}}}}}}}"
      ]
     },
     "execution_count": 2,
     "metadata": {},
     "output_type": "execute_result"
    }
   ],
   "source": [
    "dd = yaml.safe_load(open('../config/myExample.yaml'))\n",
    "dd"
   ]
  },
  {
   "cell_type": "markdown",
   "id": "bronze-paradise",
   "metadata": {},
   "source": [
    "#### Point the config_dir variable at the right place"
   ]
  },
  {
   "cell_type": "code",
   "execution_count": 3,
   "id": "level-venice",
   "metadata": {},
   "outputs": [],
   "source": [
    "dd['sim_config']['config_dir'] = '../config'"
   ]
  },
  {
   "cell_type": "markdown",
   "id": "yellow-cincinnati",
   "metadata": {},
   "source": [
    "#### Use the python dictionary to construct a top-level bolo object"
   ]
  },
  {
   "cell_type": "code",
   "execution_count": 4,
   "id": "flexible-graphics",
   "metadata": {},
   "outputs": [],
   "source": [
    "top = Top(**dd)"
   ]
  },
  {
   "cell_type": "markdown",
   "id": "devoted-heating",
   "metadata": {},
   "source": [
    "## Exploring the resulting object\n",
    "\n",
    "Note the different between a few different ways to print and object. 1 and 2 are equivalent, as are 3 and 4.\n",
    "\n",
    "    1. top # Asking the python interpreter to print the representation of object\n",
    "    2. print(repr(top) # Explicitly printing the representation of the object\n",
    "    3. print(top) # Print the object\n",
    "    4. print(str(top)) # Convert the object to a string and print that\n"
   ]
  },
  {
   "cell_type": "code",
   "execution_count": 5,
   "id": "sensitive-winner",
   "metadata": {},
   "outputs": [
    {
     "data": {
      "text/plain": [
       "<bolo.top.Top at 0x7fd7866fc250>"
      ]
     },
     "execution_count": 5,
     "metadata": {},
     "output_type": "execute_result"
    }
   ],
   "source": [
    "top"
   ]
  },
  {
   "cell_type": "code",
   "execution_count": 6,
   "id": "breathing-nelson",
   "metadata": {},
   "outputs": [
    {
     "name": "stdout",
     "output_type": "stream",
     "text": [
      "<bolo.top.Top object at 0x7fd7866fc250>\n"
     ]
    }
   ],
   "source": [
    "print(repr(top))"
   ]
  },
  {
   "cell_type": "code",
   "execution_count": 7,
   "id": "worthy-ivory",
   "metadata": {},
   "outputs": [
    {
     "name": "stdout",
     "output_type": "stream",
     "text": [
      "<class 'bolo.top.Top'>\n",
      "  Parameters:\n",
      "    sim_config : <bolo.top.SimConfig object at 0x7fd7866fc150>\n",
      "    universe   : <bolo.sky.Universe object at 0x7fd7866fc110>\n",
      "    instrument : <bolo.instrument.Instrument object at 0x7fd786512550>\n"
     ]
    }
   ],
   "source": [
    "print(top)"
   ]
  },
  {
   "cell_type": "code",
   "execution_count": 8,
   "id": "agreed-immune",
   "metadata": {},
   "outputs": [
    {
     "name": "stdout",
     "output_type": "stream",
     "text": [
      "<class 'bolo.top.Top'>\n",
      "  Parameters:\n",
      "    sim_config : <bolo.top.SimConfig object at 0x7fd7866fc150>\n",
      "    universe   : <bolo.sky.Universe object at 0x7fd7866fc110>\n",
      "    instrument : <bolo.instrument.Instrument object at 0x7fd786512550>\n"
     ]
    }
   ],
   "source": [
    "print(str(top))"
   ]
  },
  {
   "cell_type": "markdown",
   "id": "religious-fabric",
   "metadata": {},
   "source": [
    "#### Ok, lets work our way down the hierarchy\n",
    "\n",
    "I've left an open cell for you to play with things like tab-completion"
   ]
  },
  {
   "cell_type": "code",
   "execution_count": 9,
   "id": "canadian-flooring",
   "metadata": {},
   "outputs": [
    {
     "name": "stdout",
     "output_type": "stream",
     "text": [
      "<class 'bolo.sky.Universe'>\n",
      "  Parameters:\n",
      "    dust        : <bolo.sky.Dust object at 0x7fd7866fc590>\n",
      "    synchrotron : <bolo.sky.Synchrotron object at 0x7fd78596ab50>\n",
      "    atmosphere  : <bolo.sky.Atmosphere object at 0x7fd7866fcd50>\n"
     ]
    }
   ],
   "source": [
    "print(top.universe)"
   ]
  },
  {
   "cell_type": "code",
   "execution_count": 10,
   "id": "separate-thinking",
   "metadata": {},
   "outputs": [
    {
     "name": "stdout",
     "output_type": "stream",
     "text": [
      "<class 'bolo.sky.Dust'>\n",
      "  Parameters:\n",
      "    amplitude         : <bolo.cfg.VariableHolder object at 0x7fd7866fc7d0>\n",
      "    scale_temperature : <bolo.cfg.VariableHolder object at 0x7fd7866fca50>\n",
      "    spectral_index    : <cfgmdl.param_holder.ParamHolder object at 0x7fd7866fc9d0>\n",
      "    scale_frequency   : <cfgmdl.param_holder.ParamHolder object at 0x7fd7866fc1d0>\n",
      "    emiss             : <cfgmdl.param_holder.ParamHolder object at 0x7fd7863d4c90>\n"
     ]
    }
   ],
   "source": [
    "print(str(top.universe.dust))"
   ]
  },
  {
   "cell_type": "code",
   "execution_count": 11,
   "id": "statutory-secret",
   "metadata": {},
   "outputs": [
    {
     "name": "stdout",
     "output_type": "stream",
     "text": [
      "<class 'bolo.instrument.Instrument'>\n",
      "  Parameters:\n",
      "    site            : 'Atacama'\n",
      "    sky_temp        : <cfgmdl.param_holder.ParamHolder object at 0x7fd7866fc610>\n",
      "    obs_time        : <cfgmdl.param_holder.ParamHolder object at 0x7fd7866fcad0>\n",
      "    sky_fraction    : <cfgmdl.param_holder.ParamHolder object at 0x7fd7866fcd90>\n",
      "    NET             : <cfgmdl.param_holder.ParamHolder object at 0x7fd7866fccd0>\n",
      "    custom_atm_file : None\n",
      "    elevation       : <bolo.cfg.VariableHolder object at 0x7fd7866fcfd0>\n",
      "    pwv             : <bolo.cfg.VariableHolder object at 0x7fd7866fcc90>\n",
      "    obs_effic       : <bolo.cfg.VariableHolder object at 0x7fd7866fce90>\n",
      "    readout         : <bolo.readout.Readout object at 0x7fd7866fcd10>\n",
      "    camera_config   : {'default': {'boresite_elevation': 0, 'optical_coupling': 1, 'f_number': 2.5, 'bath_temperature': 0.1}, 'elements': {'cam_1': {'skip_optical_elements': [], 'chan_config': {'elements': {'chan_1': {'band_center': 100.0, 'det_eff': {'var_type': 'pdf', 'fname': 'Pdf/detEff_1.txt'}, 'band_response': {'var_type': 'dist', 'fname': 'Bands/Cam_1.txt'}, 'read_frac': 0.1}, 'chan_2': {'band_center': 150.0, 'fractional_bandwidth': 0.35, 'response_factor': 1.41, 'det_eff': {'var_type': 'pdf', 'fname': 'Pdf/detEff_2.txt'}, 'squid_nei': {'var_type': 'pdf', 'fname': 'Pdf/squidNEI_2.txt'}, 'bolo_resistance': {'var_type': 'gauss', 'value': 1.0, 'errors': 0.1}, 'read_frac': 'None'}}, 'default': {'band_center': 100.0, 'fractional_bandwidth': 0.35, 'band_response': 1.0, 'pixel_size': 6.8, 'num_det_per_water': 542, 'num_wafer_per_optics_tube': 1, 'num_optics_tube': 3, 'waist_factor': 3, 'det_eff': 1.0, 'psat': 'None', 'psat_factor': 3.0, 'carrier_index': 3, 'Tc': 0.165, 'Tc_fraction': 'None', 'G': 'None', 'Flink': 'None', 'Yield': 0.7, 'response_factor': 1.0, 'bolo_resistance': 'None', 'squid_nei': 'None', 'read_frac': 'None', 'nyquist_inductance': 'None'}}}, 'cam_2': {'skip_optical_elements': [], 'chan_config': {'elements': {'chan_1': {'band_center': 100.0, 'det_eff': {'var_type': 'pdf', 'fname': 'Pdf/detEff_1.txt'}, 'band_response': {'var_type': 'dist', 'fname': 'Bands/Cam_1.txt'}, 'read_frac': 0.1}, 'chan_2': {'band_center': 150.0, 'fractional_bandwidth': 0.35, 'response_factor': 1.41, 'det_eff': {'var_type': 'pdf', 'fname': 'Pdf/detEff_2.txt'}, 'squid_nei': {'var_type': 'pdf', 'fname': 'Pdf/squidNEI_2.txt'}, 'bolo_resistance': {'var_type': 'gauss', 'value': 1.0, 'errors': 0.1}, 'read_frac': 'None'}}, 'default': {'band_center': 100.0, 'fractional_bandwidth': 0.35, 'band_response': 1.0, 'pixel_size': 6.8, 'num_det_per_water': 542, 'num_wafer_per_optics_tube': 1, 'num_optics_tube': 3, 'waist_factor': 3, 'det_eff': 1.0, 'psat': 'None', 'psat_factor': 3.0, 'carrier_index': 3, 'Tc': 0.165, 'Tc_fraction': 'None', 'G': 'None', 'Flink': 'None', 'Yield': 0.7, 'response_factor': 1.0, 'bolo_resistance': 'None', 'squid_nei': 'None', 'read_frac': 'None', 'nyquist_inductance': 'None'}}}}}\n",
      "    optics_config   : {'default': {'temperature': 273.0, 'reflection': 0.0, 'scatter_frac': 0.0, 'spillover': 0.0}, 'elements': {'primary': {'obj_type': 'Mirror', 'temperature': 273.0, 'absorption': 0.002, 'spillover': 0.01}, 'mirror': {'obj_type': 'Mirror', 'temperature': 273.0, 'absorption': 0.002}, 'window': {'temperature': {'var_type': 'pdf', 'fname': 'Pdf/Window_temperature.txt'}, 'absorption': 0.005, 'reflection': {'var_type': 'dist', 'fname': 'Bands/Optics/Window_reflection.txt'}, 'spillover': 0.02, 'scatter_frac': {'var_type': 'dist', 'fname': 'Bands/Optics/Window_scatterFrac.txt'}}, 'IRshader1': {'temperature': 291, 'absorption': 0.001}, 'IRshader2': {'temperature': 245.0, 'absorption': 0.001}, 'IRshader3': {'temperature': 200.0, 'absorption': 0.001}, 'abs_filter': {'temperature': 90.0, 'absorption': 0.01, 'reflection': 0.02}, 'low_pass1': {'temperature': 40.0, 'absorption': 0.01, 'reflection': 0.05}, 'lens1': {'temperature': 4.0, 'absorption': 0.01, 'reflection': 0.005}, 'low_pass2': {'temperature': 4.0, 'absorption': 0.01, 'reflection': 0.05}, 'lens2': {'temperature': 2.0, 'absorption': 0.005, 'reflection': 0.005}, 'aperture': {'obj_type': 'ApertureStop', 'absorption': 0.0, 'temperature': 2.0}, 'low_pass3': {'temperature': 2.0, 'absorption': 0.01, 'reflection': 0.05}, 'lens3': {'temperature': 2.0, 'absorption': 0.005, 'reflection': 0.005}, 'low_pass4': {'temperature': 1.5, 'absorption': 0.01, 'reflection': 0.05}}}\n",
      "    channel_default : {'band_center': 100.0, 'fractional_bandwidth': 0.35, 'band_response': 1.0, 'pixel_size': 6.8, 'num_det_per_water': 542, 'num_wafer_per_optics_tube': 1, 'num_optics_tube': 3, 'waist_factor': 3, 'det_eff': 1.0, 'psat': 'None', 'psat_factor': 3.0, 'carrier_index': 3, 'Tc': 0.165, 'Tc_fraction': 'None', 'G': 'None', 'Flink': 'None', 'Yield': 0.7, 'response_factor': 1.0, 'bolo_resistance': 'None', 'squid_nei': 'None', 'read_frac': 'None', 'nyquist_inductance': 'None'}\n"
     ]
    }
   ],
   "source": [
    "print(top.instrument)"
   ]
  },
  {
   "cell_type": "code",
   "execution_count": 12,
   "id": "prostate-confidence",
   "metadata": {},
   "outputs": [
    {
     "name": "stdout",
     "output_type": "stream",
     "text": [
      "<class 'cfgmdl.tools.Optics'>\n",
      "  Parameters:\n",
      "    primary    : <bolo.optics.Mirror object at 0x7fd786700850>\n",
      "    mirror     : <bolo.optics.Mirror object at 0x7fd7867007d0>\n",
      "    window     : <bolo.optics.OpticalElement object at 0x7fd786700ed0>\n",
      "    IRshader1  : <bolo.optics.OpticalElement object at 0x7fd7866e5650>\n",
      "    IRshader2  : <bolo.optics.OpticalElement object at 0x7fd7866e5510>\n",
      "    IRshader3  : <bolo.optics.OpticalElement object at 0x7fd7866e5e50>\n",
      "    abs_filter : <bolo.optics.OpticalElement object at 0x7fd7866e5b50>\n",
      "    low_pass1  : <bolo.optics.OpticalElement object at 0x7fd7866e5150>\n",
      "    lens1      : <bolo.optics.OpticalElement object at 0x7fd7866db350>\n",
      "    low_pass2  : <bolo.optics.OpticalElement object at 0x7fd7866db6d0>\n",
      "    lens2      : <bolo.optics.OpticalElement object at 0x7fd7866dba50>\n",
      "    aperture   : <bolo.optics.ApertureStop object at 0x7fd782f649d0>\n",
      "    low_pass3  : <bolo.optics.OpticalElement object at 0x7fd7866dba90>\n",
      "    lens3      : <bolo.optics.OpticalElement object at 0x7fd7866dbe90>\n",
      "    low_pass4  : <bolo.optics.OpticalElement object at 0x7fd7867040d0>\n"
     ]
    }
   ],
   "source": [
    "print(top.instrument.optics)"
   ]
  },
  {
   "cell_type": "code",
   "execution_count": 13,
   "id": "radio-holiday",
   "metadata": {},
   "outputs": [
    {
     "name": "stdout",
     "output_type": "stream",
     "text": [
      "<class 'bolo.optics.Mirror'>\n",
      "  Parameters:\n",
      "    conductivity   : <cfgmdl.param_holder.ParamHolder object at 0x7fd786700c10>\n",
      "    temperature    : <bolo.cfg.VariableHolder object at 0x7fd786700ad0>\n",
      "    spillover_temp : <cfgmdl.param_holder.ParamHolder object at 0x7fd786700890>\n",
      "    scatter_temp   : <cfgmdl.param_holder.ParamHolder object at 0x7fd786700750>\n",
      "    surface_rough  : <cfgmdl.param_holder.ParamHolder object at 0x7fd786700b90>\n",
      "    absorption     : <bolo.cfg.VariableHolder object at 0x7fd786700b50>\n",
      "    reflection     : <bolo.cfg.VariableHolder object at 0x7fd786700a50>\n",
      "    spillover      : <bolo.cfg.VariableHolder object at 0x7fd786700950>\n",
      "    scatter_frac   : <bolo.cfg.VariableHolder object at 0x7fd786700290>\n"
     ]
    }
   ],
   "source": [
    "print(top.instrument.optics.primary)"
   ]
  },
  {
   "cell_type": "markdown",
   "id": "linear-ensemble",
   "metadata": {},
   "source": [
    "#### Ok, now try accessing a value, changing the value, etc..."
   ]
  },
  {
   "cell_type": "code",
   "execution_count": 14,
   "id": "generous-dodge",
   "metadata": {},
   "outputs": [
    {
     "name": "stdout",
     "output_type": "stream",
     "text": [
      "Orig:    3.53e+11\n",
      "Changed: 3.65e+11\n"
     ]
    }
   ],
   "source": [
    "# access the value\n",
    "top.universe.dust.scale_frequency()\n",
    "print(\"Orig:    %.3g\" % top.universe.dust.scale_frequency())\n",
    "# change the value\n",
    "top.universe.dust.scale_frequency = 365.\n",
    "print(\"Changed: %.3g\" % top.universe.dust.scale_frequency())"
   ]
  },
  {
   "cell_type": "markdown",
   "id": "japanese-chair",
   "metadata": {},
   "source": [
    "### Updating parameters\n",
    "\n",
    "Two methods allow use to manipulate the configuration objects\n",
    "1. todict() will convert an object (and all its children) to a nested python dictionary\n",
    "2. update() will update an object (and all its children) from a nested python dictionary "
   ]
  },
  {
   "cell_type": "code",
   "execution_count": 15,
   "id": "forbidden-advertiser",
   "metadata": {
    "scrolled": true
   },
   "outputs": [
    {
     "name": "stdout",
     "output_type": "stream",
     "text": [
      "<class 'bolo.sky.Synchrotron'>\n",
      "  Parameters:\n",
      "    amplitude       : <bolo.cfg.VariableHolder object at 0x7fd7866fc490>\n",
      "    spectral_index  : <cfgmdl.param_holder.ParamHolder object at 0x7fd7866fcc10>\n",
      "    scale_frequency : <cfgmdl.param_holder.ParamHolder object at 0x7fd7866fce50>\n",
      "    emiss           : <cfgmdl.param_holder.ParamHolder object at 0x7fd7866fced0>\n"
     ]
    },
    {
     "data": {
      "text/plain": [
       "OrderedDict([('amplitude',\n",
       "              OrderedDict([('fname', None),\n",
       "                           ('var_type', 'const'),\n",
       "                           ('value', array(0.0002)),\n",
       "                           ('errors', array(nan)),\n",
       "                           ('bounds', array(nan)),\n",
       "                           ('scale', array(1.)),\n",
       "                           ('free', array(False)),\n",
       "                           ('unit', <cfgmdl.unit.Unit at 0x7fd7866fc990>)])),\n",
       "             ('spectral_index',\n",
       "              OrderedDict([('value', array(-3.)),\n",
       "                           ('errors', array(nan)),\n",
       "                           ('bounds', array(nan)),\n",
       "                           ('scale', array(1.)),\n",
       "                           ('free', array(False)),\n",
       "                           ('unit', None)])),\n",
       "             ('scale_frequency',\n",
       "              OrderedDict([('value', array(30.)),\n",
       "                           ('errors', array(nan)),\n",
       "                           ('bounds', array(nan)),\n",
       "                           ('scale', array(1.)),\n",
       "                           ('free', array(False)),\n",
       "                           ('unit', <cfgmdl.unit.Unit at 0x7fd7866fca90>)])),\n",
       "             ('emiss',\n",
       "              OrderedDict([('value', array(1.)),\n",
       "                           ('errors', array(nan)),\n",
       "                           ('bounds', array(nan)),\n",
       "                           ('scale', array(1.)),\n",
       "                           ('free', array(False)),\n",
       "                           ('unit', None)]))])"
      ]
     },
     "execution_count": 15,
     "metadata": {},
     "output_type": "execute_result"
    }
   ],
   "source": [
    "val_dict = top.universe.synchrotron.todict()\n",
    "print(top.universe.synchrotron)\n",
    "val_dict"
   ]
  },
  {
   "cell_type": "code",
   "execution_count": 16,
   "id": "applicable-organic",
   "metadata": {},
   "outputs": [
    {
     "name": "stdout",
     "output_type": "stream",
     "text": [
      "<class 'bolo.sky.Synchrotron'>\n",
      "  Parameters:\n",
      "    amplitude       : <bolo.cfg.VariableHolder object at 0x7fd7866fc490>\n",
      "    spectral_index  : <cfgmdl.param_holder.ParamHolder object at 0x7fd7866fcc10>\n",
      "    scale_frequency : <cfgmdl.param_holder.ParamHolder object at 0x7fd7866fce50>\n",
      "    emiss           : <cfgmdl.param_holder.ParamHolder object at 0x7fd7866fced0>\n"
     ]
    }
   ],
   "source": [
    "val_dict['spectral_index'] = 2.\n",
    "val_dict['amplitude'] = 0.0003\n",
    "top.universe.synchrotron.update(**val_dict)\n",
    "print(top.universe.synchrotron)"
   ]
  },
  {
   "cell_type": "markdown",
   "id": "julian-spencer",
   "metadata": {},
   "source": [
    "#### Ok, now try setting an illegal value"
   ]
  },
  {
   "cell_type": "code",
   "execution_count": 17,
   "id": "federal-basis",
   "metadata": {},
   "outputs": [
    {
     "name": "stdout",
     "output_type": "stream",
     "text": [
      "Caught Failed to set <cfgmdl.param_holder.ParamHolder object at 0x7fd7866fc1d0> _value could not convert string to float: 'afda'\n"
     ]
    }
   ],
   "source": [
    "save_val = top.universe.dust.scale_frequency.value\n",
    "try: \n",
    "    top.universe.dust.scale_frequency = \"afda\"\n",
    "except TypeError as msg:\n",
    "    print(\"Caught %s\" % msg)\n",
    "else: \n",
    "    raise TypeError(\"Failed to catch TypeError\")\n",
    "#print(\"Value is set to %s\" % top.universe.dust.scale_frequency\n",
    "top.universe.dust.scale_frequency = save_val"
   ]
  },
  {
   "cell_type": "markdown",
   "id": "breathing-gasoline",
   "metadata": {},
   "source": [
    "#### Use this cell to play around with the python structure"
   ]
  },
  {
   "cell_type": "code",
   "execution_count": null,
   "id": "fresh-tracy",
   "metadata": {},
   "outputs": [],
   "source": []
  },
  {
   "cell_type": "markdown",
   "id": "tribal-sterling",
   "metadata": {},
   "source": [
    "## Ok, now run the data"
   ]
  },
  {
   "cell_type": "code",
   "execution_count": 18,
   "id": "bibliographic-deposit",
   "metadata": {},
   "outputs": [],
   "source": [
    "top.run()"
   ]
  },
  {
   "cell_type": "markdown",
   "id": "gorgeous-robertson",
   "metadata": {},
   "source": [
    "### Let's print a high-level summary of results"
   ]
  },
  {
   "cell_type": "code",
   "execution_count": 19,
   "id": "clean-issue",
   "metadata": {},
   "outputs": [
    {
     "name": "stdout",
     "output_type": "stream",
     "text": [
      "cam_1_chan_1 ---------\n",
      "effic                : 0.137 +- [0.0269 0.0157] \n",
      "opt_power            : 2.47 +- [0.506 0.322] \n",
      "tel_rj_temp          : 17.1 +- [1.42 1.51] \n",
      "sky_rj_temp          : 10.9 +- [0.0534 0.0588] \n",
      "NEP_bolo             : 11.1 +- [1.19 0.697] \n",
      "NEP_read             : 14 +- [2.25 1.37] \n",
      "NEP_ph               : 28.4 +- [4.81 2.93] \n",
      "NEP_ph_corr          : 28.4 +- [4.81 2.93] \n",
      "NEP                  : 33.5 +- [5.4 3.29] \n",
      "NEP_corr             : 33.5 +- [5.4 3.29] \n",
      "NET                  : 8.17 +- [0.396 0.537] \n",
      "NET_corr             : 8.17 +- [0.396 0.537] \n",
      "NET_RJ               : 6.34 +- [0.307 0.416] \n",
      "NET_corr_RJ          : 6.34 +- [0.307 0.416] \n",
      "NET_arr              : 0.242 +- [0.0117 0.0159] \n",
      "NET_arr_RJ           : 0.188 +- [0.00911 0.0123] \n",
      "corr_fact            : 1 +- [0 0] \n",
      "map_depth            : 0.167 +- [0.0115 0.0148] \n",
      "map_depth_RJ         : 0.13 +- [0.00896 0.0115] \n",
      "---------\n",
      "cam_1_chan_2 ---------\n",
      "effic                : 0.144 +- [0.0251 0.0241] \n",
      "opt_power            : 4.74 +- [0.922 0.86] \n",
      "tel_rj_temp          : 17 +- [1.22 1.2] \n",
      "sky_rj_temp          : 16.8 +- [0 3.55e-15] \n",
      "NEP_bolo             : 15.4 +- [1.58 1.34] \n",
      "NEP_read             : 28.1 +- [4.04 7.62] \n",
      "NEP_ph               : 45.7 +- [6.81 6.43] \n",
      "NEP_ph_corr          : 45.7 +- [6.81 6.43] \n",
      "NEP                  : 56 +- [5.56 9.58] \n",
      "NEP_corr             : 56 +- [5.56 9.58] \n",
      "NET                  : 11.8 +- [0.627 1.24] \n",
      "NET_corr             : 11.8 +- [0.627 1.24] \n",
      "NET_RJ               : 6.78 +- [0.362 0.713] \n",
      "NET_corr_RJ          : 6.78 +- [0.362 0.713] \n",
      "NET_arr              : 0.348 +- [0.0186 0.0366] \n",
      "NET_arr_RJ           : 0.201 +- [0.0107 0.0211] \n",
      "corr_fact            : 1 +- [0 0] \n",
      "map_depth            : 0.24 +- [0.0184 0.0231] \n",
      "map_depth_RJ         : 0.139 +- [0.0106 0.0133] \n",
      "---------\n",
      "cam_2_chan_1 ---------\n",
      "effic                : 0.135 +- [0.0276 0.0147] \n",
      "opt_power            : 2.44 +- [0.444 0.369] \n",
      "tel_rj_temp          : 17.2 +- [1.4 1.28] \n",
      "sky_rj_temp          : 10.9 +- [0.0649 0.0525] \n",
      "NEP_bolo             : 11 +- [1.05 0.802] \n",
      "NEP_read             : 13.8 +- [1.93 1.51] \n",
      "NEP_ph               : 28 +- [4.11 3.23] \n",
      "NEP_ph_corr          : 28 +- [4.11 3.23] \n",
      "NEP                  : 33.2 +- [4.63 3.63] \n",
      "NEP_corr             : 33.2 +- [4.63 3.63] \n",
      "NET                  : 8.24 +- [0.341 0.524] \n",
      "NET_corr             : 8.24 +- [0.341 0.524] \n",
      "NET_RJ               : 6.39 +- [0.264 0.407] \n",
      "NET_corr_RJ          : 6.39 +- [0.264 0.407] \n",
      "NET_arr              : 0.244 +- [0.0101 0.0155] \n",
      "NET_arr_RJ           : 0.19 +- [0.00784 0.0121] \n",
      "corr_fact            : 1 +- [0 0] \n",
      "map_depth            : 0.168 +- [0.0122 0.0136] \n",
      "map_depth_RJ         : 0.131 +- [0.00943 0.0106] \n",
      "---------\n",
      "cam_2_chan_2 ---------\n",
      "effic                : 0.152 +- [0.0252 0.024] \n",
      "opt_power            : 4.95 +- [1.13 0.523] \n",
      "tel_rj_temp          : 16.7 +- [1.12 0.878] \n",
      "sky_rj_temp          : 16.8 +- [3.55e-15 0] \n",
      "NEP_bolo             : 15.7 +- [1.89 0.801] \n",
      "NEP_read             : 28.8 +- [3.73 4.74] \n",
      "NEP_ph               : 47.4 +- [8.5 5] \n",
      "NEP_ph_corr          : 47.4 +- [8.5 5] \n",
      "NEP                  : 57.7 +- [9.62 7.22] \n",
      "NEP_corr             : 57.7 +- [9.62 7.22] \n",
      "NET                  : 11.5 +- [0.821 0.594] \n",
      "NET_corr             : 11.5 +- [0.821 0.594] \n",
      "NET_RJ               : 6.64 +- [0.474 0.343] \n",
      "NET_corr_RJ          : 6.64 +- [0.474 0.343] \n",
      "NET_arr              : 0.341 +- [0.0243 0.0176] \n",
      "NET_arr_RJ           : 0.197 +- [0.014 0.0102] \n",
      "corr_fact            : 1 +- [0 0] \n",
      "map_depth            : 0.235 +- [0.0187 0.0226] \n",
      "map_depth_RJ         : 0.136 +- [0.0108 0.013] \n",
      "---------\n"
     ]
    }
   ],
   "source": [
    "top.instrument.print_summary()"
   ]
  },
  {
   "cell_type": "markdown",
   "id": "loving-oregon",
   "metadata": {},
   "source": [
    "### Let's get the data"
   ]
  },
  {
   "cell_type": "code",
   "execution_count": 20,
   "id": "coordinated-possession",
   "metadata": {},
   "outputs": [],
   "source": [
    "tabs = top.instrument.tables"
   ]
  },
  {
   "cell_type": "code",
   "execution_count": 21,
   "id": "color-mozambique",
   "metadata": {},
   "outputs": [
    {
     "data": {
      "text/plain": [
       "dict_keys(['cam_1_chan_1_sims', 'cam_1_chan_2_sims', 'cam_2_chan_1_sims', 'cam_2_chan_2_sims', 'summary'])"
      ]
     },
     "execution_count": 21,
     "metadata": {},
     "output_type": "execute_result"
    }
   ],
   "source": [
    "tabs.keys()"
   ]
  },
  {
   "cell_type": "code",
   "execution_count": 22,
   "id": "desperate-cancer",
   "metadata": {},
   "outputs": [
    {
     "data": {
      "text/html": [
       "<i>Table length=4</i>\n",
       "<table id=\"table140563650115152\" class=\"table-striped table-bordered table-condensed\">\n",
       "<thead><tr><th>effic_mean</th><th>effic_median</th><th>effic_std</th><th>effic_n_2_sig</th><th>effic_n_1_sig</th><th>effic_p_1_sig</th><th>effic_p_2_sig</th><th>opt_power_mean</th><th>opt_power_median</th><th>opt_power_std</th><th>opt_power_n_2_sig</th><th>opt_power_n_1_sig</th><th>opt_power_p_1_sig</th><th>opt_power_p_2_sig</th><th>tel_rj_temp_mean</th><th>tel_rj_temp_median</th><th>tel_rj_temp_std</th><th>tel_rj_temp_n_2_sig</th><th>tel_rj_temp_n_1_sig</th><th>tel_rj_temp_p_1_sig</th><th>tel_rj_temp_p_2_sig</th><th>sky_rj_temp_mean</th><th>sky_rj_temp_median</th><th>sky_rj_temp_std</th><th>sky_rj_temp_n_2_sig</th><th>sky_rj_temp_n_1_sig</th><th>sky_rj_temp_p_1_sig</th><th>sky_rj_temp_p_2_sig</th><th>NEP_bolo_mean</th><th>NEP_bolo_median</th><th>NEP_bolo_std</th><th>NEP_bolo_n_2_sig</th><th>NEP_bolo_n_1_sig</th><th>NEP_bolo_p_1_sig</th><th>NEP_bolo_p_2_sig</th><th>NEP_read_mean</th><th>NEP_read_median</th><th>NEP_read_std</th><th>NEP_read_n_2_sig</th><th>NEP_read_n_1_sig</th><th>NEP_read_p_1_sig</th><th>NEP_read_p_2_sig</th><th>NEP_ph_mean</th><th>NEP_ph_median</th><th>NEP_ph_std</th><th>NEP_ph_n_2_sig</th><th>NEP_ph_n_1_sig</th><th>NEP_ph_p_1_sig</th><th>NEP_ph_p_2_sig</th><th>NEP_ph_corr_mean</th><th>NEP_ph_corr_median</th><th>NEP_ph_corr_std</th><th>NEP_ph_corr_n_2_sig</th><th>NEP_ph_corr_n_1_sig</th><th>NEP_ph_corr_p_1_sig</th><th>NEP_ph_corr_p_2_sig</th><th>NEP_mean</th><th>NEP_median</th><th>NEP_std</th><th>NEP_n_2_sig</th><th>NEP_n_1_sig</th><th>NEP_p_1_sig</th><th>NEP_p_2_sig</th><th>NEP_corr_mean</th><th>NEP_corr_median</th><th>NEP_corr_std</th><th>NEP_corr_n_2_sig</th><th>NEP_corr_n_1_sig</th><th>NEP_corr_p_1_sig</th><th>NEP_corr_p_2_sig</th><th>NET_mean</th><th>NET_median</th><th>NET_std</th><th>NET_n_2_sig</th><th>NET_n_1_sig</th><th>NET_p_1_sig</th><th>NET_p_2_sig</th><th>NET_corr_mean</th><th>NET_corr_median</th><th>NET_corr_std</th><th>NET_corr_n_2_sig</th><th>NET_corr_n_1_sig</th><th>NET_corr_p_1_sig</th><th>NET_corr_p_2_sig</th><th>NET_RJ_mean</th><th>NET_RJ_median</th><th>NET_RJ_std</th><th>NET_RJ_n_2_sig</th><th>NET_RJ_n_1_sig</th><th>NET_RJ_p_1_sig</th><th>NET_RJ_p_2_sig</th><th>NET_corr_RJ_mean</th><th>NET_corr_RJ_median</th><th>NET_corr_RJ_std</th><th>NET_corr_RJ_n_2_sig</th><th>NET_corr_RJ_n_1_sig</th><th>NET_corr_RJ_p_1_sig</th><th>NET_corr_RJ_p_2_sig</th><th>NET_arr_mean</th><th>NET_arr_median</th><th>NET_arr_std</th><th>NET_arr_n_2_sig</th><th>NET_arr_n_1_sig</th><th>NET_arr_p_1_sig</th><th>NET_arr_p_2_sig</th><th>NET_arr_RJ_mean</th><th>NET_arr_RJ_median</th><th>NET_arr_RJ_std</th><th>NET_arr_RJ_n_2_sig</th><th>NET_arr_RJ_n_1_sig</th><th>NET_arr_RJ_p_1_sig</th><th>NET_arr_RJ_p_2_sig</th><th>corr_fact_mean</th><th>corr_fact_median</th><th>corr_fact_std</th><th>corr_fact_n_2_sig</th><th>corr_fact_n_1_sig</th><th>corr_fact_p_1_sig</th><th>corr_fact_p_2_sig</th><th>map_depth_mean</th><th>map_depth_median</th><th>map_depth_std</th><th>map_depth_n_2_sig</th><th>map_depth_n_1_sig</th><th>map_depth_p_1_sig</th><th>map_depth_p_2_sig</th><th>map_depth_RJ_mean</th><th>map_depth_RJ_median</th><th>map_depth_RJ_std</th><th>map_depth_RJ_n_2_sig</th><th>map_depth_RJ_n_1_sig</th><th>map_depth_RJ_p_1_sig</th><th>map_depth_RJ_p_2_sig</th></tr></thead>\n",
       "<thead><tr><th>float64</th><th>float64</th><th>float64</th><th>float64</th><th>float64</th><th>float64</th><th>float64</th><th>float64</th><th>float64</th><th>float64</th><th>float64</th><th>float64</th><th>float64</th><th>float64</th><th>float64</th><th>float64</th><th>float64</th><th>float64</th><th>float64</th><th>float64</th><th>float64</th><th>float64</th><th>float64</th><th>float64</th><th>float64</th><th>float64</th><th>float64</th><th>float64</th><th>float64</th><th>float64</th><th>float64</th><th>float64</th><th>float64</th><th>float64</th><th>float64</th><th>float64</th><th>float64</th><th>float64</th><th>float64</th><th>float64</th><th>float64</th><th>float64</th><th>float64</th><th>float64</th><th>float64</th><th>float64</th><th>float64</th><th>float64</th><th>float64</th><th>float64</th><th>float64</th><th>float64</th><th>float64</th><th>float64</th><th>float64</th><th>float64</th><th>float64</th><th>float64</th><th>float64</th><th>float64</th><th>float64</th><th>float64</th><th>float64</th><th>float64</th><th>float64</th><th>float64</th><th>float64</th><th>float64</th><th>float64</th><th>float64</th><th>float64</th><th>float64</th><th>float64</th><th>float64</th><th>float64</th><th>float64</th><th>float64</th><th>float64</th><th>float64</th><th>float64</th><th>float64</th><th>float64</th><th>float64</th><th>float64</th><th>float64</th><th>float64</th><th>float64</th><th>float64</th><th>float64</th><th>float64</th><th>float64</th><th>float64</th><th>float64</th><th>float64</th><th>float64</th><th>float64</th><th>float64</th><th>float64</th><th>float64</th><th>float64</th><th>float64</th><th>float64</th><th>float64</th><th>float64</th><th>float64</th><th>float64</th><th>float64</th><th>float64</th><th>float64</th><th>float64</th><th>float64</th><th>float64</th><th>float64</th><th>float64</th><th>float64</th><th>float64</th><th>float64</th><th>float64</th><th>float64</th><th>float64</th><th>float64</th><th>float64</th><th>float64</th><th>float64</th><th>float64</th><th>float64</th><th>float64</th><th>float64</th><th>float64</th><th>float64</th><th>float64</th><th>float64</th><th>float64</th></tr></thead>\n",
       "<tr><td>0.13710197060440601</td><td>0.14028874531614166</td><td>0.02228937044201951</td><td>0.08649847073646738</td><td>0.11341287677352149</td><td>0.1559436344389584</td><td>0.17801978120899298</td><td>2.4693423274169026</td><td>2.5200172501435776</td><td>0.4214843645645753</td><td>1.4792473421386279</td><td>2.01434276052328</td><td>2.8420985870015323</td><td>3.110435268717583</td><td>17.076714011435474</td><td>17.035175179187043</td><td>1.3996813455343478</td><td>14.906236564430927</td><td>15.614808820717212</td><td>18.546294763572497</td><td>19.75949525813773</td><td>10.887394925404134</td><td>10.885080163851608</td><td>0.05256239332398824</td><td>10.790643766835737</td><td>10.831700566867914</td><td>10.943928468216065</td><td>11.011796283016606</td><td>11.086073980239625</td><td>11.243396231129356</td><td>0.9855503823990687</td><td>8.61423924840329</td><td>10.052248512686045</td><td>11.940323685045886</td><td>12.49128492067982</td><td>13.96284866538121</td><td>14.1831449393607</td><td>1.8381622072683557</td><td>9.559824720953957</td><td>11.931932794420316</td><td>15.552523865752375</td><td>16.739360347670146</td><td>28.3758770261653</td><td>28.838309192179388</td><td>3.9259861684259585</td><td>18.999645855262</td><td>24.026254997367055</td><td>31.768584314054273</td><td>34.32612659445771</td><td>28.3758770261653</td><td>28.838309192179388</td><td>3.9259861684259585</td><td>18.999645855262</td><td>24.026254997367055</td><td>31.768584314054273</td><td>34.32612659445771</td><td>33.51637715188321</td><td>34.04517562136441</td><td>4.412318666597988</td><td>22.947372597957013</td><td>28.64137320919654</td><td>37.33222840412343</td><td>40.18110688865467</td><td>33.51637715188321</td><td>34.04517562136441</td><td>4.412318666597988</td><td>22.947372597957013</td><td>28.64137320919654</td><td>37.33222840412343</td><td>40.18110688865467</td><td>8.17251450045622</td><td>8.098101709567946</td><td>0.5006277778538947</td><td>7.397128247033035</td><td>7.7021261534903385</td><td>8.634643397300424</td><td>9.317156583498903</td><td>8.17251450045622</td><td>8.098101709567946</td><td>0.5006277778538947</td><td>7.397128247033035</td><td>7.7021261534903385</td><td>8.634643397300424</td><td>9.317156583498903</td><td>6.343771205581552</td><td>6.286009580302374</td><td>0.3886035419926789</td><td>5.741891210459467</td><td>5.978640492046975</td><td>6.702490665657612</td><td>7.2322795694024675</td><td>6.343771205581552</td><td>6.286009580302374</td><td>0.3886035419926789</td><td>5.741891210459467</td><td>5.978640492046975</td><td>6.702490665657612</td><td>7.2322795694024675</td><td>0.24224030753887169</td><td>0.2400346488828246</td><td>0.01483903477480028</td><td>0.21925719695764723</td><td>0.22829759531421237</td><td>0.255938202609953</td><td>0.2761684761830161</td><td>0.1880347948860205</td><td>0.1863226909954992</td><td>0.01151854077686205</td><td>0.17019455794159793</td><td>0.17721200878590826</td><td>0.19866754595965302</td><td>0.21437094140381788</td><td>1.0</td><td>1.0</td><td>0.0</td><td>1.0</td><td>1.0</td><td>1.0</td><td>1.0</td><td>0.16695892986895097</td><td>0.16553341927912288</td><td>0.013000651172874701</td><td>0.14232350031348664</td><td>0.15398970951057264</td><td>0.18034085396262328</td><td>0.19386145933454924</td><td>0.12959894433448058</td><td>0.12849241671284123</td><td>0.010091527712760694</td><td>0.11047612373350603</td><td>0.11953181424083201</td><td>0.13998642847243803</td><td>0.15048156152306366</td></tr>\n",
       "<tr><td>0.14426416150515334</td><td>0.14451442204485393</td><td>0.02467831456139061</td><td>0.09543634941803414</td><td>0.11936676985486536</td><td>0.1686126155575056</td><td>0.16934784990944912</td><td>4.742777541765534</td><td>4.768224152888775</td><td>0.8512409248537861</td><td>3.1321951445428162</td><td>3.8463989308581663</td><td>5.628190886764609</td><td>6.311241334592697</td><td>17.034279381795336</td><td>16.97609157925565</td><td>1.3482518043317193</td><td>14.7365573534637</td><td>15.751499585609327</td><td>18.181055414213123</td><td>19.94727224666113</td><td>16.817330495832195</td><td>16.817330496114877</td><td>2.01335989126419e-09</td><td>16.81733049134303</td><td>16.817330496114877</td><td>16.81733049611488</td><td>16.817330500947175</td><td>15.359356166324636</td><td>15.46583769940303</td><td>1.4168150983911723</td><td>12.534901820444189</td><td>13.890685973509205</td><td>16.802772217038736</td><td>17.79319443005338</td><td>28.132259075995314</td><td>26.473101829637002</td><td>5.164246514672663</td><td>20.285817658239022</td><td>22.4316375847146</td><td>34.09725943278531</td><td>38.3852821457499</td><td>45.725594183598666</td><td>45.77063536135134</td><td>6.39161919794633</td><td>33.637588940511144</td><td>38.964604348220064</td><td>52.20369444731341</td><td>56.51096067122578</td><td>45.725594183598666</td><td>45.77063536135134</td><td>6.39161919794633</td><td>33.637588940511144</td><td>38.964604348220064</td><td>52.20369444731341</td><td>56.51096067122578</td><td>55.967435511884666</td><td>54.45934184994201</td><td>7.439055806217147</td><td>41.7611793521676</td><td>48.897261445360606</td><td>64.04118157538588</td><td>69.24029559510824</td><td>55.967435511884666</td><td>54.45934184994201</td><td>7.439055806217147</td><td>41.7611793521676</td><td>48.897261445360606</td><td>64.04118157538588</td><td>69.24029559510824</td><td>11.750963173691808</td><td>11.522712794200185</td><td>0.8738291713496731</td><td>10.339683920346147</td><td>10.89603949860574</td><td>12.758192663189206</td><td>13.479405879004354</td><td>11.750963173691808</td><td>11.522712794200185</td><td>0.8738291713496731</td><td>10.339683920346147</td><td>10.89603949860574</td><td>12.758192663189206</td><td>13.479405879004354</td><td>6.78149550704599</td><td>6.649771928295492</td><td>0.5042879049013131</td><td>5.967044489347495</td><td>6.288117987623302</td><td>7.362768901969316</td><td>7.778981948540889</td><td>6.78149550704599</td><td>6.649771928295492</td><td>0.5042879049013131</td><td>5.967044489347495</td><td>6.288117987623302</td><td>7.362768901969316</td><td>7.778981948540889</td><td>0.34830858151602595</td><td>0.3415430453862548</td><td>0.02590104271976093</td><td>0.3064770594875734</td><td>0.32296791384715234</td><td>0.3781637235637335</td><td>0.39954109905696844</td><td>0.20100931691324528</td><td>0.19710491757264337</td><td>0.014947524065525736</td><td>0.17686829336515414</td><td>0.18638518598866322</td><td>0.21823875663372916</td><td>0.2305756666994819</td><td>1.0</td><td>1.0</td><td>0.0</td><td>1.0</td><td>1.0</td><td>1.0</td><td>1.0</td><td>0.24006420989520538</td><td>0.2376812658039511</td><td>0.02126255481546621</td><td>0.2056621135470532</td><td>0.21924076495634284</td><td>0.2607715057273333</td><td>0.2893892275638822</td><td>0.13854135501434073</td><td>0.13716615500651821</td><td>0.012270646909371798</td><td>0.1186878622946744</td><td>0.12652411896255322</td><td>0.1504915612717338</td><td>0.16700688424465715</td></tr>\n",
       "<tr><td>0.13464654487664135</td><td>0.13962975770971658</td><td>0.02278245451277682</td><td>0.08756214827169359</td><td>0.11200730686103658</td><td>0.15428149096829172</td><td>0.1679404509216405</td><td>2.4368020714002174</td><td>2.477879560273036</td><td>0.4358287218322288</td><td>1.459423792364609</td><td>2.0343143585434187</td><td>2.8471129604810517</td><td>3.198344476388374</td><td>17.17130851386417</td><td>17.183152214006057</td><td>1.2698458314924168</td><td>14.207900236495108</td><td>15.779170946607874</td><td>18.46465062857751</td><td>19.593909972437505</td><td>10.894599836884193</td><td>10.894330493229909</td><td>0.05427145625119421</td><td>10.783806491451836</td><td>10.829404940510631</td><td>10.946825999386576</td><td>10.986881091619543</td><td>11.00820188054107</td><td>11.14898375607952</td><td>1.0293125933781078</td><td>8.556324398477674</td><td>10.101958101536214</td><td>11.950852323473011</td><td>12.666573555012247</td><td>13.810343751550066</td><td>14.000903455416474</td><td>1.909906876908208</td><td>9.491685820709138</td><td>12.073442681559936</td><td>15.513863667130504</td><td>17.146955493015046</td><td>28.04850143541018</td><td>28.445616355047243</td><td>4.07785505602683</td><td>18.86264327845285</td><td>24.33277342275155</td><td>31.674472440320066</td><td>35.20857881785051</td><td>28.04850143541018</td><td>28.445616355047243</td><td>4.07785505602683</td><td>18.86264327845285</td><td>24.33277342275155</td><td>31.674472440320066</td><td>35.20857881785051</td><td>33.150304845867815</td><td>33.60772374782677</td><td>4.584534341487343</td><td>22.783812200358344</td><td>28.981053088407094</td><td>37.23942858735036</td><td>41.159496968218235</td><td>33.150304845867815</td><td>33.60772374782677</td><td>4.584534341487343</td><td>22.783812200358344</td><td>28.981053088407094</td><td>37.23942858735036</td><td>41.159496968218235</td><td>8.236922928929797</td><td>8.17473724539019</td><td>0.4958343962885601</td><td>7.45034579772089</td><td>7.8341844644028935</td><td>8.69865918264521</td><td>9.493604786881333</td><td>8.236922928929797</td><td>8.17473724539019</td><td>0.4958343962885601</td><td>7.45034579772089</td><td>7.8341844644028935</td><td>8.69865918264521</td><td>9.493604786881333</td><td>6.393767119804112</td><td>6.345496572395975</td><td>0.38488276352849404</td><td>5.7832004018553755</td><td>6.081148442345263</td><td>6.752181797530217</td><td>7.3692443960579075</td><td>6.393767119804112</td><td>6.345496572395975</td><td>0.38488276352849404</td><td>5.7832004018553755</td><td>6.081148442345263</td><td>6.752181797530217</td><td>7.3692443960579075</td><td>0.24414942835115827</td><td>0.24230619159650846</td><td>0.014696954852583809</td><td>0.22083461059752166</td><td>0.2322119164018942</td><td>0.25783568514466093</td><td>0.28139855158388016</td><td>0.18951671647040977</td><td>0.1880859362315293</td><td>0.011408253726359072</td><td>0.1714189976446255</td><td>0.1802504319546956</td><td>0.20014043353496444</td><td>0.21843069580733343</td><td>1.0</td><td>1.0</td><td>0.0</td><td>1.0</td><td>1.0</td><td>1.0</td><td>1.0</td><td>0.1682747503905161</td><td>0.1675245513309118</td><td>0.012962807830002619</td><td>0.1459626771219507</td><td>0.15537023591887877</td><td>0.1811237579152777</td><td>0.19764279290613024</td><td>0.13062032696230608</td><td>0.130037998085128</td><td>0.010062152480838932</td><td>0.11330097097584078</td><td>0.12060342367964891</td><td>0.14059414394988476</td><td>0.1534167554623042</td></tr>\n",
       "<tr><td>0.15198967412243067</td><td>0.14515604071421867</td><td>0.02571079027251269</td><td>0.09545353454360957</td><td>0.1199595971876053</td><td>0.16914814326872268</td><td>0.19216620359734418</td><td>4.949380931589845</td><td>5.088663626030332</td><td>0.8552280364433859</td><td>3.0560640209400525</td><td>3.95468138241313</td><td>5.6115299117047535</td><td>6.260026916130812</td><td>16.730674793638325</td><td>16.767090642806068</td><td>1.19206465835491</td><td>14.551502207111543</td><td>15.647930928951475</td><td>17.64549999177598</td><td>19.07474963770569</td><td>16.8173304958322</td><td>16.81733049611488</td><td>2.0133597692469552e-09</td><td>16.817330491343032</td><td>16.817330496114877</td><td>16.81733049611488</td><td>16.817330500947175</td><td>15.693157655832419</td><td>15.976631427999068</td><td>1.4163557583678164</td><td>12.381628084782212</td><td>14.08485175637119</td><td>16.77788339715371</td><td>17.72085332597507</td><td>28.789177458198125</td><td>28.75670169132298</td><td>4.009039859627916</td><td>21.528152250910644</td><td>25.030870803332206</td><td>33.495363508292286</td><td>36.50223354318558</td><td>47.382707875223964</td><td>48.1716108101778</td><td>6.533892987552538</td><td>32.920802423810265</td><td>39.67634255384617</td><td>53.16749900575465</td><td>57.446771770912555</td><td>47.382707875223964</td><td>48.1716108101778</td><td>6.533892987552538</td><td>32.920802423810265</td><td>39.67634255384617</td><td>53.16749900575465</td><td>57.446771770912555</td><td>57.72223608786266</td><td>58.563403441641924</td><td>7.009038760017493</td><td>42.586190059836355</td><td>48.93931688535201</td><td>65.78328399966946</td><td>68.77510680593124</td><td>57.72223608786266</td><td>58.563403441641924</td><td>7.009038760017493</td><td>42.586190059836355</td><td>48.93931688535201</td><td>65.78328399966946</td><td>68.77510680593124</td><td>11.512641454490636</td><td>11.534857887394274</td><td>0.8044416937171645</td><td>10.493580593502273</td><td>10.713847729441055</td><td>12.12905608933867</td><td>13.393575227021172</td><td>11.512641454490636</td><td>11.534857887394274</td><td>0.8044416937171645</td><td>10.493580593502273</td><td>10.713847729441055</td><td>12.12905608933867</td><td>13.393575227021172</td><td>6.643959745584958</td><td>6.656780876728993</td><td>0.46424430499763997</td><td>6.055858451414378</td><td>6.182974890351309</td><td>6.999693400342558</td><td>7.7294489722063275</td><td>6.643959745584958</td><td>6.656780876728993</td><td>0.46424430499763997</td><td>6.055858451414378</td><td>6.182974890351309</td><td>6.999693400342558</td><td>7.7294489722063275</td><td>0.3412445222782892</td><td>0.34190303631808616</td><td>0.02384433863925949</td><td>0.3110386882778885</td><td>0.3175675942526089</td><td>0.3595155783539577</td><td>0.3969970052494252</td><td>0.19693263951462422</td><td>0.19731266878849746</td><td>0.013760597574898179</td><td>0.17950081503074752</td><td>0.18326865481366988</td><td>0.2074768887693178</td><td>0.22910746698935228</td><td>1.0</td><td>1.0</td><td>0.0</td><td>1.0</td><td>1.0</td><td>1.0</td><td>1.0</td><td>0.23519545876602296</td><td>0.2337451828321032</td><td>0.019951329983708632</td><td>0.2027126992709955</td><td>0.21500928644027534</td><td>0.2563278111995485</td><td>0.2843296008121638</td><td>0.13573159266384713</td><td>0.13489463661314036</td><td>0.011513937423191222</td><td>0.11698575163652153</td><td>0.12408212743209573</td><td>0.14792709961617145</td><td>0.16408696733427772</td></tr>\n",
       "</table>"
      ],
      "text/plain": [
       "<Table length=4>\n",
       "     effic_mean         effic_median    ... map_depth_RJ_p_2_sig\n",
       "      float64             float64       ...       float64       \n",
       "------------------- ------------------- ... --------------------\n",
       "0.13710197060440601 0.14028874531614166 ...  0.15048156152306366\n",
       "0.14426416150515334 0.14451442204485393 ...  0.16700688424465715\n",
       "0.13464654487664135 0.13962975770971658 ...   0.1534167554623042\n",
       "0.15198967412243067 0.14515604071421867 ...  0.16408696733427772"
      ]
     },
     "execution_count": 22,
     "metadata": {},
     "output_type": "execute_result"
    }
   ],
   "source": [
    "tabs['summary']"
   ]
  },
  {
   "cell_type": "code",
   "execution_count": 23,
   "id": "successful-synthesis",
   "metadata": {},
   "outputs": [
    {
     "data": {
      "text/html": [
       "<i>Table length=2500</i>\n",
       "<table id=\"table140563651906704\" class=\"table-striped table-bordered table-condensed\">\n",
       "<thead><tr><th>effic</th><th>opt_power</th><th>tel_rj_temp</th><th>sky_rj_temp</th><th>NEP_bolo</th><th>NEP_read</th><th>NEP_ph</th><th>NEP_ph_corr</th><th>NEP</th><th>NEP_corr</th><th>NET</th><th>NET_corr</th><th>NET_RJ</th><th>NET_corr_RJ</th><th>NET_arr</th><th>NET_arr_RJ</th><th>corr_fact</th><th>map_depth</th><th>map_depth_RJ</th></tr></thead>\n",
       "<thead><tr><th>float64</th><th>float64</th><th>float64</th><th>float64</th><th>float64</th><th>float64</th><th>float64</th><th>float64</th><th>float64</th><th>float64</th><th>float64</th><th>float64</th><th>float64</th><th>float64</th><th>float64</th><th>float64</th><th>float64</th><th>float64</th><th>float64</th></tr></thead>\n",
       "<tr><td>0.14834853402079146</td><td>2.7494875065884274</td><td>17.4681438995637</td><td>10.945035678503737</td><td>11.744172078715927</td><td>15.10427136943541</td><td>30.796926428313693</td><td>30.796926428313693</td><td>36.25624454969107</td><td>36.25624454969107</td><td>8.125229660418505</td><td>8.125229660418505</td><td>6.307067176891846</td><td>6.307067176891846</td><td>0.2408387445080538</td><td>0.18694685613752232</td><td>1.0</td><td>0.17662377370210564</td><td>0.13710111004024791</td></tr>\n",
       "<tr><td>0.15216789208940126</td><td>2.5983054588208687</td><td>15.800560367293526</td><td>10.788042872502098</td><td>11.416727456458508</td><td>14.582250741650814</td><td>29.702516076782054</td><td>29.702516076782054</td><td>35.00318790908802</td><td>35.00318790908802</td><td>7.635277308545454</td><td>7.635277308545454</td><td>5.926750247292552</td><td>5.926750247292552</td><td>0.226316138474073</td><td>0.17567393762716305</td><td>1.0</td><td>0.16597333833735525</td><td>0.12883389617479202</td></tr>\n",
       "<tr><td>0.1431678875707244</td><td>2.693747816572157</td><td>18.089328063572363</td><td>10.884977476223133</td><td>11.624519181268568</td><td>14.964997297012964</td><td>30.51728319045207</td><td>30.51728319045207</td><td>35.92193151295646</td><td>35.92193151295646</td><td>8.331954540221508</td><td>8.331954540221508</td><td>6.467533743197527</td><td>6.467533743197527</td><td>0.24696624644844442</td><td>0.19170322217020722</td><td>1.0</td><td>0.18111749633086888</td><td>0.14058928350468494</td></tr>\n",
       "<tr><td>0.11341287677352149</td><td>1.8754399170992566</td><td>14.906236564430927</td><td>10.904060597088373</td><td>9.699472328313064</td><td>11.346659121713145</td><td>22.78156344193142</td><td>22.78156344193142</td><td>27.236484162439417</td><td>27.236484162439417</td><td>7.9627540190962565</td><td>7.9627540190962565</td><td>6.180948306748399</td><td>6.180948306748399</td><td>0.2360228277765167</td><td>0.1832085851453695</td><td>1.0</td><td>0.17309192757536773</td><td>0.13435957635926218</td></tr>\n",
       "<tr><td>0.08608310744389396</td><td>1.5681404992319776</td><td>17.353846245477015</td><td>11.011796283016606</td><td>8.869293287801364</td><td>10.020891188634764</td><td>19.98794206696576</td><td>19.98794206696576</td><td>24.05411506815156</td><td>24.05411506815156</td><td>9.24879308305993</td><td>9.24879308305993</td><td>7.179213599856215</td><td>7.179213599856215</td><td>0.27414212366080937</td><td>0.21279802075840146</td><td>1.0</td><td>0.20104745401569826</td><td>0.15605956400188342</td></tr>\n",
       "<tr><td>0.12997453085104893</td><td>2.246906006900192</td><td>16.071532419313726</td><td>10.864987148296292</td><td>10.616686257411168</td><td>13.051316351112268</td><td>26.427521081545944</td><td>26.427521081545944</td><td>31.328337908364514</td><td>31.328337908364514</td><td>7.990922203242031</td><td>7.990922203242031</td><td>6.202813366209291</td><td>6.202813366209291</td><td>0.23685775680477392</td><td>0.1838566841763185</td><td>1.0</td><td>0.17370423900410167</td><td>0.13483487237864938</td></tr>\n",
       "<tr><td>0.1520501200270626</td><td>2.9976742262747402</td><td>19.4567207202095</td><td>10.917778409235272</td><td>12.262774656873795</td><td>16.36765095845796</td><td>33.54606733164209</td><td>33.54606733164209</td><td>39.28885686301195</td><td>39.28885686301195</td><td>8.580099236762754</td><td>8.580099236762754</td><td>6.660151716606842</td><td>6.660151716606842</td><td>0.2543214671214619</td><td>0.19741258336052167</td><td>1.0</td><td>0.1865115903514705</td><td>0.14477635448830717</td></tr>\n",
       "<tr><td>0.13366118126704593</td><td>2.664536679159672</td><td>19.75949525813773</td><td>10.820424282709945</td><td>11.56131894094801</td><td>14.845265288192898</td><td>30.26175028688517</td><td>30.26175028688517</td><td>35.63452718301371</td><td>35.63452718301371</td><td>8.846719042487456</td><td>8.846719042487456</td><td>6.867110669851857</td><td>6.867110669851857</td><td>0.26222430580484396</td><td>0.20354702343758688</td><td>1.0</td><td>0.1923072906822835</td><td>0.14927516533443524</td></tr>\n",
       "<tr><td>0.14952225734435598</td><td>2.7058470817171</td><td>17.34756116827336</td><td>10.900550984402468</td><td>11.650596336382089</td><td>14.935396649960307</td><td>30.43818326840782</td><td>30.43818326840782</td><td>35.85087821471249</td><td>35.85087821471249</td><td>7.957581511293783</td><td>7.957581511293783</td><td>6.176933238184599</td><td>6.176933238184599</td><td>0.235869510228931</td><td>0.18308957508504717</td><td>1.0</td><td>0.17297948917229994</td><td>0.13427229801870458</td></tr>\n",
       "<tr><td>0.17225996944820166</td><td>2.759463151615319</td><td>14.312203854453324</td><td>10.952454516341371</td><td>11.765457794374923</td><td>15.179498072879856</td><td>30.964472910495285</td><td>30.964472910495285</td><td>36.436818487356675</td><td>36.436818487356675</td><td>6.999371992807844</td><td>6.999371992807844</td><td>5.433139886463298</td><td>5.433139886463298</td><td>0.207467361975569</td><td>0.16104290508448885</td><td>1.0</td><td>0.15215022178842302</td><td>0.11810394412274994</td></tr>\n",
       "<tr><td>...</td><td>...</td><td>...</td><td>...</td><td>...</td><td>...</td><td>...</td><td>...</td><td>...</td><td>...</td><td>...</td><td>...</td><td>...</td><td>...</td><td>...</td><td>...</td><td>...</td><td>...</td><td>...</td></tr>\n",
       "<tr><td>0.08942762313164576</td><td>1.4792473421386279</td><td>15.289211741077409</td><td>10.822970531631267</td><td>8.61423924840329</td><td>9.559824720953957</td><td>18.999645855262</td><td>18.999645855262</td><td>22.947372597957013</td><td>22.947372597957013</td><td>8.530278886726897</td><td>8.530278886726897</td><td>6.621479542701025</td><td>6.621479542701025</td><td>0.2528447494094645</td><td>0.19626630710740292</td><td>1.0</td><td>0.17345258275409595</td><td>0.1346395286233827</td></tr>\n",
       "<tr><td>0.1253754760436809</td><td>2.2326004152066257</td><td>16.722724367635397</td><td>10.943928469959552</td><td>10.582835153953306</td><td>12.901581630092377</td><td>26.088819406005857</td><td>26.088819406005857</td><td>30.96891516428812</td><td>30.96891516428812</td><td>8.20041905435638</td><td>8.20041905435638</td><td>6.365431626682861</td><td>6.365431626682861</td><td>0.24306742234155973</td><td>0.18867682826126994</td><td>1.0</td><td>0.16674529444251146</td><td>0.1294331135774151</td></tr>\n",
       "<tr><td>0.17801978120899298</td><td>3.064326501127885</td><td>15.853625532741752</td><td>10.885847762164488</td><td>12.398354485457853</td><td>16.53545177164532</td><td>33.886374179961976</td><td>33.886374179961976</td><td>39.691645396781865</td><td>39.691645396781865</td><td>7.403242610075183</td><td>7.403242610075183</td><td>5.746637377652573</td><td>5.746637377652573</td><td>0.21943843189869888</td><td>0.1703352383895096</td><td>1.0</td><td>0.15053570563452395</td><td>0.11685070424321474</td></tr>\n",
       "<tr><td>0.12094715419746149</td><td>2.164444541873593</td><td>16.7452036039786</td><td>11.059839169908567</td><td>10.420049019227443</td><td>12.734890833026386</td><td>25.762300437141874</td><td>25.762300437141874</td><td>30.568791109655656</td><td>30.568791109655656</td><td>8.39946983373367</td><td>8.39946983373367</td><td>6.519941306976695</td><td>6.519941306976695</td><td>0.24896745739313592</td><td>0.19325662710653618</td><td>1.0</td><td>0.1707927437979984</td><td>0.13257487523179384</td></tr>\n",
       "<tr><td>0.18613488552317317</td><td>3.372955332889224</td><td>17.28554337692338</td><td>10.921871701281075</td><td>13.007739343439736</td><td>17.711538829114556</td><td>36.39507674067951</td><td>36.39507674067951</td><td>42.5147209973446</td><td>42.5147209973446</td><td>7.584401797894918</td><td>7.584401797894918</td><td>5.887259023445092</td><td>5.887259023445092</td><td>0.22480814490055348</td><td>0.17450338403446386</td><td>1.0</td><td>0.15421935178891416</td><td>0.11971007003626014</td></tr>\n",
       "<tr><td>0.13115555087371342</td><td>2.3279868153916703</td><td>16.483996732671717</td><td>10.867757424040084</td><td>10.806543074230191</td><td>13.370364023627301</td><td>27.10144485246186</td><td>27.10144485246186</td><td>32.09417891815479</td><td>32.09417891815479</td><td>8.13516220040144</td><td>8.13516220040144</td><td>6.314777137044075</td><td>6.314777137044075</td><td>0.2411331534736144</td><td>0.18717538593924787</td><td>1.0</td><td>0.16541837770143003</td><td>0.12840311770358628</td></tr>\n",
       "<tr><td>0.1301895058748981</td><td>2.2814156857172905</td><td>16.504922335020883</td><td>10.910296021081605</td><td>10.697905131980837</td><td>13.160360184096964</td><td>26.65132834985399</td><td>26.65132834985399</td><td>31.59008637531334</td><td>31.59008637531334</td><td>8.049518536065015</td><td>8.049518536065015</td><td>6.248297743005976</td><td>6.248297743005976</td><td>0.23859460213957234</td><td>0.18520487993942517</td><td>1.0</td><td>0.16367692059634148</td><td>0.12705134213458608</td></tr>\n",
       "<tr><td>0.14459535431798917</td><td>2.510517148049795</td><td>15.892340636722466</td><td>10.844828651640693</td><td>11.222203163585911</td><td>14.109408149752774</td><td>28.671244191192045</td><td>28.671244191192045</td><td>33.86817806809323</td><td>33.86817806809323</td><td>7.779733250634467</td><td>7.779733250634467</td><td>6.038881641595772</td><td>6.038881641595772</td><td>0.2305979359350021</td><td>0.17899760789281483</td><td>1.0</td><td>0.15819117327572424</td><td>0.12279312688251343</td></tr>\n",
       "<tr><td>0.10187140187040387</td><td>2.0073379455720377</td><td>19.418451121842917</td><td>10.9238140600514</td><td>10.034755098834635</td><td>11.931932793910887</td><td>24.026254996283555</td><td>24.026254996283555</td><td>28.641373207973714</td><td>28.641373207973714</td><td>9.317156583498903</td><td>9.317156583498903</td><td>7.2322795694024675</td><td>7.2322795694024675</td><td>0.2761684761830161</td><td>0.21437094140381788</td><td>1.0</td><td>0.18945275937541026</td><td>0.14705938541639865</td></tr>\n",
       "<tr><td>0.1559436344389584</td><td>2.983347849436066</td><td>18.709826987634436</td><td>10.856095991538691</td><td>12.233436656333646</td><td>16.246918420596746</td><td>33.27621730136253</td><td>33.27621730136253</td><td>38.99905086636792</td><td>38.99905086636792</td><td>8.294972126291428</td><td>8.294972126291428</td><td>6.438826792284263</td><td>6.438826792284263</td><td>0.2458700561237344</td><td>0.1908523236349591</td><td>1.0</td><td>0.16866791323988595</td><td>0.1309255127362558</td></tr>\n",
       "</table>"
      ],
      "text/plain": [
       "<Table length=2500>\n",
       "       effic            opt_power      ...     map_depth_RJ   \n",
       "      float64            float64       ...       float64      \n",
       "------------------- ------------------ ... -------------------\n",
       "0.14834853402079146 2.7494875065884274 ... 0.13710111004024791\n",
       "0.15216789208940126 2.5983054588208687 ... 0.12883389617479202\n",
       " 0.1431678875707244  2.693747816572157 ... 0.14058928350468494\n",
       "0.11341287677352149 1.8754399170992566 ... 0.13435957635926218\n",
       "0.08608310744389396 1.5681404992319776 ... 0.15605956400188342\n",
       "0.12997453085104893  2.246906006900192 ... 0.13483487237864938\n",
       " 0.1520501200270626 2.9976742262747402 ... 0.14477635448830717\n",
       "0.13366118126704593  2.664536679159672 ... 0.14927516533443524\n",
       "0.14952225734435598    2.7058470817171 ... 0.13427229801870458\n",
       "0.17225996944820166  2.759463151615319 ... 0.11810394412274994\n",
       "                ...                ... ...                 ...\n",
       "0.08942762313164576 1.4792473421386279 ...  0.1346395286233827\n",
       " 0.1253754760436809 2.2326004152066257 ...  0.1294331135774151\n",
       "0.17801978120899298  3.064326501127885 ... 0.11685070424321474\n",
       "0.12094715419746149  2.164444541873593 ... 0.13257487523179384\n",
       "0.18613488552317317  3.372955332889224 ... 0.11971007003626014\n",
       "0.13115555087371342 2.3279868153916703 ... 0.12840311770358628\n",
       " 0.1301895058748981 2.2814156857172905 ... 0.12705134213458608\n",
       "0.14459535431798917  2.510517148049795 ... 0.12279312688251343\n",
       "0.10187140187040387 2.0073379455720377 ... 0.14705938541639865\n",
       " 0.1559436344389584  2.983347849436066 ...  0.1309255127362558"
      ]
     },
     "execution_count": 23,
     "metadata": {},
     "output_type": "execute_result"
    }
   ],
   "source": [
    "tabs['cam_1_chan_1_sims']"
   ]
  },
  {
   "cell_type": "markdown",
   "id": "fleet-proxy",
   "metadata": {},
   "source": [
    "### Let's plot a distribution"
   ]
  },
  {
   "cell_type": "code",
   "execution_count": 24,
   "id": "stunning-interstate",
   "metadata": {},
   "outputs": [
    {
     "data": {
      "image/png": "[encoded data removed]",
      "text/plain": [
       "<Figure size 432x288 with 1 Axes>"
      ]
     },
     "metadata": {
      "needs_background": "light"
     },
     "output_type": "display_data"
    }
   ],
   "source": [
    "bins = np.linspace(0.0, 25., 26)\n",
    "fig = plt.figure()\n",
    "ax = fig.add_subplot(111)\n",
    "ax.set_xlim(bins[0], bins[-1])\n",
    "ax.set_xlabel('Optical Power [pW]')\n",
    "ax.set_ylabel('Realizations / pW')\n",
    "for chan in ['cam_1_chan_1', 'cam_1_chan_2', 'cam_2_chan_1', 'cam_2_chan_2']:\n",
    "    ax.hist(tabs['%s_sims' % chan]['opt_power'], bins, label=chan, alpha=0.5)\n",
    "leg = fig.legend()"
   ]
  },
  {
   "cell_type": "code",
   "execution_count": null,
   "id": "compact-nurse",
   "metadata": {},
   "outputs": [],
   "source": []
  }
 ],
 "metadata": {
  "kernelspec": {
   "display_name": "Python 3",
   "language": "python",
   "name": "python3"
  },
  "language_info": {
   "codemirror_mode": {
    "name": "ipython",
    "version": 3
   },
   "file_extension": ".py",
   "mimetype": "text/x-python",
   "name": "python",
   "nbconvert_exporter": "python",
   "pygments_lexer": "ipython3",
   "version": "3.7.9"
  }
 },
 "nbformat": 4,
 "nbformat_minor": 5
}
