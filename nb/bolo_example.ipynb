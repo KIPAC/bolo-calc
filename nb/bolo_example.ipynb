{
 "cells": [
  {
   "cell_type": "markdown",
   "id": "restricted-bernard",
   "metadata": {},
   "source": [
    "# Example notebook for bolo-calc\n",
    "\n",
    "In this notebook we will\n",
    "  1. Use a configuration file to build a bolo python data structure\n",
    "  2. Explore the resulting data structure and how we can modifiy it\n",
    "  3. Run the analysis and look at the output"
   ]
  },
  {
   "cell_type": "markdown",
   "id": "given-memorial",
   "metadata": {},
   "source": [
    "## Basics"
   ]
  },
  {
   "cell_type": "code",
   "execution_count": 1,
   "id": "satellite-christian",
   "metadata": {},
   "outputs": [],
   "source": [
    "# Standard imports\n",
    "import numpy as np\n",
    "import yaml\n",
    "import matplotlib\n",
    "import matplotlib.pyplot as plt\n",
    "%matplotlib inline  \n",
    "from bolo import Top"
   ]
  },
  {
   "cell_type": "markdown",
   "id": "through-indiana",
   "metadata": {},
   "source": [
    "#### Read a yaml file into a python dictionary"
   ]
  },
  {
   "cell_type": "code",
   "execution_count": 2,
   "id": "solved-basics",
   "metadata": {},
   "outputs": [
    {
     "data": {
      "text/plain": [
       "{'sim_config': {'nsky_sim': 0,\n",
       "  'ndet_sim': 0,\n",
       "  'save_summary': True,\n",
       "  'save_sim': True,\n",
       "  'config_dir': 'config'},\n",
       " 'universe': {'dust': {'spectral_index': 1.5,\n",
       "   'amplitude': 0.012,\n",
       "   'scale_frequency': 353.0,\n",
       "   'scale_temperature': {'var_type': 'pdf',\n",
       "    'fname': 'Pdf/dustTemperature.txt'}},\n",
       "  'synchrotron': {'spectral_index': -3.0,\n",
       "   'amplitude': 0.0002,\n",
       "   'scale_frequency': 30.0},\n",
       "  'atmosphere': {'atm_model_file': 'atm_20201217.hdf5'}},\n",
       " 'instrument': {'site': 'Atacama',\n",
       "  'sky_temp': 'None',\n",
       "  'elevation': 50.0,\n",
       "  'pwv': {'var_type': 'pdf', 'fname': 'Pdf/pwv.txt'},\n",
       "  'obs_time': 5.0,\n",
       "  'sky_fraction': 0.2,\n",
       "  'obs_effic': {'var_type': 'pdf', 'fname': 'Pdf/observationEfficiency.txt'},\n",
       "  'NET': 1.0,\n",
       "  'readout': {'read_noise_frac': 0.1,\n",
       "   'dwell_time': 'None',\n",
       "   'revisit_rate': 'None'},\n",
       "  'optics_config': {'default': {'temperature': 273.0,\n",
       "    'reflection': 0.0,\n",
       "    'scatter_frac': 0.0,\n",
       "    'spillover': 0.0},\n",
       "   'elements': {'primary': {'obj_type': 'Mirror',\n",
       "     'temperature': 273.0,\n",
       "     'absorption': 0.002,\n",
       "     'spillover': 0.01},\n",
       "    'mirror': {'obj_type': 'Mirror',\n",
       "     'temperature': 273.0,\n",
       "     'absorption': 0.002},\n",
       "    'window': {'temperature': {'var_type': 'pdf',\n",
       "      'fname': 'Pdf/Window_temperature.txt'},\n",
       "     'absorption': 0.005,\n",
       "     'reflection': {'var_type': 'dist',\n",
       "      'fname': 'Bands/Optics/Window_reflection.txt'},\n",
       "     'spillover': 0.02,\n",
       "     'scatter_frac': {'var_type': 'dist',\n",
       "      'fname': 'Bands/Optics/Window_scatterFrac.txt'}},\n",
       "    'IRshader1': {'temperature': 291, 'absorption': 0.001},\n",
       "    'IRshader2': {'temperature': 245.0, 'absorption': 0.001},\n",
       "    'IRshader3': {'temperature': 200.0, 'absorption': 0.001},\n",
       "    'abs_filter': {'temperature': 90.0,\n",
       "     'absorption': 0.01,\n",
       "     'reflection': 0.02},\n",
       "    'low_pass1': {'temperature': 40.0, 'absorption': 0.01, 'reflection': 0.05},\n",
       "    'lens1': {'temperature': 4.0, 'absorption': 0.01, 'reflection': 0.005},\n",
       "    'low_pass2': {'temperature': 4.0, 'absorption': 0.01, 'reflection': 0.05},\n",
       "    'lens2': {'temperature': 2.0, 'absorption': 0.005, 'reflection': 0.005},\n",
       "    'aperture': {'obj_type': 'ApertureStop',\n",
       "     'absorption': 0.0,\n",
       "     'temperature': 2.0},\n",
       "    'low_pass3': {'temperature': 2.0, 'absorption': 0.01, 'reflection': 0.05},\n",
       "    'lens3': {'temperature': 2.0, 'absorption': 0.005, 'reflection': 0.005},\n",
       "    'low_pass4': {'temperature': 1.5,\n",
       "     'absorption': 0.01,\n",
       "     'reflection': 0.05}}},\n",
       "  'channel_default': {'band_center': 100.0,\n",
       "   'fractional_bandwidth': 0.35,\n",
       "   'band_response': 1.0,\n",
       "   'pixel_size': 6.8,\n",
       "   'num_det_per_water': 542,\n",
       "   'num_wafer_per_optics_tube': 1,\n",
       "   'num_optics_tube': 3,\n",
       "   'waist_factor': 3,\n",
       "   'det_eff': 1.0,\n",
       "   'psat': 'None',\n",
       "   'psat_factor': 3.0,\n",
       "   'carrier_index': 3,\n",
       "   'Tc': 0.165,\n",
       "   'Tc_fraction': 'None',\n",
       "   'G': 'None',\n",
       "   'Flink': 'None',\n",
       "   'Yield': 0.7,\n",
       "   'response_factor': 1.0,\n",
       "   'bolo_resistance': 'None',\n",
       "   'squid_nei': 'None',\n",
       "   'read_frac': 'None',\n",
       "   'nyquist_inductance': 'None'},\n",
       "  'camera_config': {'default': {'boresite_elevation': 0,\n",
       "    'optical_coupling': 1,\n",
       "    'f_number': 2.5,\n",
       "    'bath_temperature': 0.1},\n",
       "   'elements': {'cam_1': {'skip_optical_elements': [],\n",
       "     'chan_config': {'elements': {'chan_1': {'band_center': 100.0,\n",
       "        'det_eff': {'var_type': 'pdf', 'fname': 'Pdf/detEff_1.txt'},\n",
       "        'band_response': {'var_type': 'dist', 'fname': 'Bands/Cam_1.txt'},\n",
       "        'read_frac': 0.1},\n",
       "       'chan_2': {'band_center': 150.0,\n",
       "        'fractional_bandwidth': 0.35,\n",
       "        'response_factor': 1.41,\n",
       "        'det_eff': {'var_type': 'pdf', 'fname': 'Pdf/detEff_2.txt'},\n",
       "        'squid_nei': {'var_type': 'pdf', 'fname': 'Pdf/squidNEI_2.txt'},\n",
       "        'bolo_resistance': {'var_type': 'gauss', 'value': 1.0, 'errors': 0.1},\n",
       "        'read_frac': 'None'}}}},\n",
       "    'cam_2': {'skip_optical_elements': [],\n",
       "     'chan_config': {'elements': {'chan_1': {'band_center': 100.0,\n",
       "        'det_eff': {'var_type': 'pdf', 'fname': 'Pdf/detEff_1.txt'},\n",
       "        'band_response': {'var_type': 'dist', 'fname': 'Bands/Cam_1.txt'},\n",
       "        'read_frac': 0.1},\n",
       "       'chan_2': {'band_center': 150.0,\n",
       "        'fractional_bandwidth': 0.35,\n",
       "        'response_factor': 1.41,\n",
       "        'det_eff': {'var_type': 'pdf', 'fname': 'Pdf/detEff_2.txt'},\n",
       "        'squid_nei': {'var_type': 'pdf', 'fname': 'Pdf/squidNEI_2.txt'},\n",
       "        'bolo_resistance': {'var_type': 'gauss', 'value': 1.0, 'errors': 0.1},\n",
       "        'read_frac': 'None'}}}}}}}}"
      ]
     },
     "execution_count": 2,
     "metadata": {},
     "output_type": "execute_result"
    }
   ],
   "source": [
    "dd = yaml.safe_load(open('../config/myExample.yaml'))\n",
    "dd"
   ]
  },
  {
   "cell_type": "markdown",
   "id": "bronze-paradise",
   "metadata": {},
   "source": [
    "#### Point the config_dir variable at the right place"
   ]
  },
  {
   "cell_type": "code",
   "execution_count": 3,
   "id": "level-venice",
   "metadata": {},
   "outputs": [],
   "source": [
    "dd['sim_config']['config_dir'] = '../config'"
   ]
  },
  {
   "cell_type": "markdown",
   "id": "yellow-cincinnati",
   "metadata": {},
   "source": [
    "#### Use the python dictionary to construct a top-level bolo object"
   ]
  },
  {
   "cell_type": "code",
   "execution_count": 4,
   "id": "flexible-graphics",
   "metadata": {},
   "outputs": [],
   "source": [
    "top = Top(**dd)"
   ]
  },
  {
   "cell_type": "markdown",
   "id": "devoted-heating",
   "metadata": {},
   "source": [
    "## Exploring the resulting object\n",
    "\n",
    "Note the different between a few different ways to print and object. 1 and 2 are equivalent, as are 3 and 4.\n",
    "\n",
    "    1. top # Asking the python interpreter to print the representation of object\n",
    "    2. print(repr(top) # Explicitly printing the representation of the object\n",
    "    3. print(top) # Print the object\n",
    "    4. print(str(top)) # Convert the object to a string and print that\n"
   ]
  },
  {
   "cell_type": "code",
   "execution_count": 5,
   "id": "sensitive-winner",
   "metadata": {},
   "outputs": [
    {
     "data": {
      "text/plain": [
       "<bolo.top.Top at 0x7fe944feadd0>"
      ]
     },
     "execution_count": 5,
     "metadata": {},
     "output_type": "execute_result"
    }
   ],
   "source": [
    "top"
   ]
  },
  {
   "cell_type": "code",
   "execution_count": 6,
   "id": "breathing-nelson",
   "metadata": {},
   "outputs": [
    {
     "name": "stdout",
     "output_type": "stream",
     "text": [
      "<bolo.top.Top object at 0x7fe944feadd0>\n"
     ]
    }
   ],
   "source": [
    "print(repr(top))"
   ]
  },
  {
   "cell_type": "code",
   "execution_count": 7,
   "id": "worthy-ivory",
   "metadata": {},
   "outputs": [
    {
     "name": "stdout",
     "output_type": "stream",
     "text": [
      "<class 'bolo.top.Top'>\n",
      "  Parameters:\n",
      "    sim_config : <bolo.top.SimConfig object at 0x7fe944feae50>\n",
      "    universe   : <bolo.sky.Universe object at 0x7fe944feaf90>\n",
      "    instrument : <bolo.instrument.Instrument object at 0x7fe944feafd0>\n"
     ]
    }
   ],
   "source": [
    "print(top)"
   ]
  },
  {
   "cell_type": "code",
   "execution_count": 8,
   "id": "agreed-immune",
   "metadata": {},
   "outputs": [
    {
     "name": "stdout",
     "output_type": "stream",
     "text": [
      "<class 'bolo.top.Top'>\n",
      "  Parameters:\n",
      "    sim_config : <bolo.top.SimConfig object at 0x7fe944feae50>\n",
      "    universe   : <bolo.sky.Universe object at 0x7fe944feaf90>\n",
      "    instrument : <bolo.instrument.Instrument object at 0x7fe944feafd0>\n"
     ]
    }
   ],
   "source": [
    "print(str(top))"
   ]
  },
  {
   "cell_type": "markdown",
   "id": "religious-fabric",
   "metadata": {},
   "source": [
    "#### Ok, lets work our way down the hierarchy\n",
    "\n",
    "I've left an open cell for you to play with things like tab-completion"
   ]
  },
  {
   "cell_type": "code",
   "execution_count": 9,
   "id": "canadian-flooring",
   "metadata": {},
   "outputs": [
    {
     "name": "stdout",
     "output_type": "stream",
     "text": [
      "<class 'bolo.sky.Universe'>\n",
      "  Parameters:\n",
      "    dust        : <bolo.sky.Dust object at 0x7fe944feae90>\n",
      "    synchrotron : <bolo.sky.Synchrotron object at 0x7fe944fea290>\n",
      "    atmosphere  : <bolo.sky.Atmosphere object at 0x7fe944ffa090>\n"
     ]
    }
   ],
   "source": [
    "print(top.universe)"
   ]
  },
  {
   "cell_type": "code",
   "execution_count": 10,
   "id": "separate-thinking",
   "metadata": {},
   "outputs": [
    {
     "name": "stdout",
     "output_type": "stream",
     "text": [
      "<class 'bolo.sky.Dust'>\n",
      "  Parameters:\n",
      "    amplitude         : <bolo.cfg.VariableHolder object at 0x7fe944fea390>\n",
      "    scale_temperature : <bolo.cfg.VariableHolder object at 0x7fe944feaed0>\n",
      "    spectral_index    : <cfgmdl.param_holder.ParamHolder object at 0x7fe944feae10>\n",
      "    scale_frequency   : <cfgmdl.param_holder.ParamHolder object at 0x7fe944fea710>\n",
      "    emiss             : <cfgmdl.param_holder.ParamHolder object at 0x7fe944ffa250>\n"
     ]
    }
   ],
   "source": [
    "print(str(top.universe.dust))"
   ]
  },
  {
   "cell_type": "code",
   "execution_count": 11,
   "id": "statutory-secret",
   "metadata": {},
   "outputs": [
    {
     "name": "stdout",
     "output_type": "stream",
     "text": [
      "<class 'bolo.instrument.Instrument'>\n",
      "  Parameters:\n",
      "    site            : 'Atacama'\n",
      "    sky_temp        : <cfgmdl.param_holder.ParamHolder object at 0x7fe944ffa5d0>\n",
      "    obs_time        : <cfgmdl.param_holder.ParamHolder object at 0x7fe944ffa790>\n",
      "    sky_fraction    : <cfgmdl.param_holder.ParamHolder object at 0x7fe944ffa850>\n",
      "    NET             : <cfgmdl.param_holder.ParamHolder object at 0x7fe944ffa690>\n",
      "    custom_atm_file : None\n",
      "    elevation       : <bolo.cfg.VariableHolder object at 0x7fe944ffa750>\n",
      "    pwv             : <bolo.cfg.VariableHolder object at 0x7fe944ffa810>\n",
      "    obs_effic       : <bolo.cfg.VariableHolder object at 0x7fe944ffa6d0>\n",
      "    readout         : <bolo.readout.Readout object at 0x7fe944ffa610>\n",
      "    camera_config   : {'default': {'boresite_elevation': 0, 'optical_coupling': 1, 'f_number': 2.5, 'bath_temperature': 0.1}, 'elements': {'cam_1': {'skip_optical_elements': [], 'chan_config': {'elements': {'chan_1': {'band_center': 100.0, 'det_eff': {'var_type': 'pdf', 'fname': 'Pdf/detEff_1.txt'}, 'band_response': {'var_type': 'dist', 'fname': 'Bands/Cam_1.txt'}, 'read_frac': 0.1}, 'chan_2': {'band_center': 150.0, 'fractional_bandwidth': 0.35, 'response_factor': 1.41, 'det_eff': {'var_type': 'pdf', 'fname': 'Pdf/detEff_2.txt'}, 'squid_nei': {'var_type': 'pdf', 'fname': 'Pdf/squidNEI_2.txt'}, 'bolo_resistance': {'var_type': 'gauss', 'value': 1.0, 'errors': 0.1}, 'read_frac': 'None'}}, 'default': {'band_center': 100.0, 'fractional_bandwidth': 0.35, 'band_response': 1.0, 'pixel_size': 6.8, 'num_det_per_water': 542, 'num_wafer_per_optics_tube': 1, 'num_optics_tube': 3, 'waist_factor': 3, 'det_eff': 1.0, 'psat': 'None', 'psat_factor': 3.0, 'carrier_index': 3, 'Tc': 0.165, 'Tc_fraction': 'None', 'G': 'None', 'Flink': 'None', 'Yield': 0.7, 'response_factor': 1.0, 'bolo_resistance': 'None', 'squid_nei': 'None', 'read_frac': 'None', 'nyquist_inductance': 'None'}}}, 'cam_2': {'skip_optical_elements': [], 'chan_config': {'elements': {'chan_1': {'band_center': 100.0, 'det_eff': {'var_type': 'pdf', 'fname': 'Pdf/detEff_1.txt'}, 'band_response': {'var_type': 'dist', 'fname': 'Bands/Cam_1.txt'}, 'read_frac': 0.1}, 'chan_2': {'band_center': 150.0, 'fractional_bandwidth': 0.35, 'response_factor': 1.41, 'det_eff': {'var_type': 'pdf', 'fname': 'Pdf/detEff_2.txt'}, 'squid_nei': {'var_type': 'pdf', 'fname': 'Pdf/squidNEI_2.txt'}, 'bolo_resistance': {'var_type': 'gauss', 'value': 1.0, 'errors': 0.1}, 'read_frac': 'None'}}, 'default': {'band_center': 100.0, 'fractional_bandwidth': 0.35, 'band_response': 1.0, 'pixel_size': 6.8, 'num_det_per_water': 542, 'num_wafer_per_optics_tube': 1, 'num_optics_tube': 3, 'waist_factor': 3, 'det_eff': 1.0, 'psat': 'None', 'psat_factor': 3.0, 'carrier_index': 3, 'Tc': 0.165, 'Tc_fraction': 'None', 'G': 'None', 'Flink': 'None', 'Yield': 0.7, 'response_factor': 1.0, 'bolo_resistance': 'None', 'squid_nei': 'None', 'read_frac': 'None', 'nyquist_inductance': 'None'}}}}}\n",
      "    optics_config   : {'default': {'temperature': 273.0, 'reflection': 0.0, 'scatter_frac': 0.0, 'spillover': 0.0}, 'elements': {'primary': {'obj_type': 'Mirror', 'temperature': 273.0, 'absorption': 0.002, 'spillover': 0.01}, 'mirror': {'obj_type': 'Mirror', 'temperature': 273.0, 'absorption': 0.002}, 'window': {'temperature': {'var_type': 'pdf', 'fname': 'Pdf/Window_temperature.txt'}, 'absorption': 0.005, 'reflection': {'var_type': 'dist', 'fname': 'Bands/Optics/Window_reflection.txt'}, 'spillover': 0.02, 'scatter_frac': {'var_type': 'dist', 'fname': 'Bands/Optics/Window_scatterFrac.txt'}}, 'IRshader1': {'temperature': 291, 'absorption': 0.001}, 'IRshader2': {'temperature': 245.0, 'absorption': 0.001}, 'IRshader3': {'temperature': 200.0, 'absorption': 0.001}, 'abs_filter': {'temperature': 90.0, 'absorption': 0.01, 'reflection': 0.02}, 'low_pass1': {'temperature': 40.0, 'absorption': 0.01, 'reflection': 0.05}, 'lens1': {'temperature': 4.0, 'absorption': 0.01, 'reflection': 0.005}, 'low_pass2': {'temperature': 4.0, 'absorption': 0.01, 'reflection': 0.05}, 'lens2': {'temperature': 2.0, 'absorption': 0.005, 'reflection': 0.005}, 'aperture': {'obj_type': 'ApertureStop', 'absorption': 0.0, 'temperature': 2.0}, 'low_pass3': {'temperature': 2.0, 'absorption': 0.01, 'reflection': 0.05}, 'lens3': {'temperature': 2.0, 'absorption': 0.005, 'reflection': 0.005}, 'low_pass4': {'temperature': 1.5, 'absorption': 0.01, 'reflection': 0.05}}}\n",
      "    channel_default : {'band_center': 100.0, 'fractional_bandwidth': 0.35, 'band_response': 1.0, 'pixel_size': 6.8, 'num_det_per_water': 542, 'num_wafer_per_optics_tube': 1, 'num_optics_tube': 3, 'waist_factor': 3, 'det_eff': 1.0, 'psat': 'None', 'psat_factor': 3.0, 'carrier_index': 3, 'Tc': 0.165, 'Tc_fraction': 'None', 'G': 'None', 'Flink': 'None', 'Yield': 0.7, 'response_factor': 1.0, 'bolo_resistance': 'None', 'squid_nei': 'None', 'read_frac': 'None', 'nyquist_inductance': 'None'}\n"
     ]
    }
   ],
   "source": [
    "print(top.instrument)"
   ]
  },
  {
   "cell_type": "code",
   "execution_count": 12,
   "id": "prostate-confidence",
   "metadata": {},
   "outputs": [
    {
     "name": "stdout",
     "output_type": "stream",
     "text": [
      "<class 'cfgmdl.tools.Optics'>\n",
      "  Parameters:\n",
      "    primary    : <bolo.optics.Mirror object at 0x7fe944ffd0d0>\n",
      "    mirror     : <bolo.optics.Mirror object at 0x7fe944ffd650>\n",
      "    window     : <bolo.optics.OpticalElement object at 0x7fe944ffd710>\n",
      "    IRshader1  : <bolo.optics.OpticalElement object at 0x7fe944ffdad0>\n",
      "    IRshader2  : <bolo.optics.OpticalElement object at 0x7fe944ffde50>\n",
      "    IRshader3  : <bolo.optics.OpticalElement object at 0x7fe944fe2110>\n",
      "    abs_filter : <bolo.optics.OpticalElement object at 0x7fe944fe2750>\n",
      "    low_pass1  : <bolo.optics.OpticalElement object at 0x7fe944fe2c10>\n",
      "    lens1      : <bolo.optics.OpticalElement object at 0x7fe944fe2f50>\n",
      "    low_pass2  : <bolo.optics.OpticalElement object at 0x7fe944fe23d0>\n",
      "    lens2      : <bolo.optics.OpticalElement object at 0x7fe944fdd150>\n",
      "    aperture   : <bolo.optics.ApertureStop object at 0x7fe941881310>\n",
      "    low_pass3  : <bolo.optics.OpticalElement object at 0x7fe941452590>\n",
      "    lens3      : <bolo.optics.OpticalElement object at 0x7fe944fdd710>\n",
      "    low_pass4  : <bolo.optics.OpticalElement object at 0x7fe944fdd310>\n"
     ]
    }
   ],
   "source": [
    "print(top.instrument.optics)"
   ]
  },
  {
   "cell_type": "code",
   "execution_count": 13,
   "id": "radio-holiday",
   "metadata": {},
   "outputs": [
    {
     "name": "stdout",
     "output_type": "stream",
     "text": [
      "<class 'bolo.optics.Mirror'>\n",
      "  Parameters:\n",
      "    conductivity   : <cfgmdl.param_holder.ParamHolder object at 0x7fe944ffd050>\n",
      "    temperature    : <bolo.cfg.VariableHolder object at 0x7fe944ffd250>\n",
      "    spillover_temp : <cfgmdl.param_holder.ParamHolder object at 0x7fe944ffd1d0>\n",
      "    scatter_temp   : <cfgmdl.param_holder.ParamHolder object at 0x7fe944ffd350>\n",
      "    surface_rough  : <cfgmdl.param_holder.ParamHolder object at 0x7fe944ffd450>\n",
      "    absorption     : <bolo.cfg.VariableHolder object at 0x7fe944ffd150>\n",
      "    reflection     : <bolo.cfg.VariableHolder object at 0x7fe944ffd4d0>\n",
      "    spillover      : <bolo.cfg.VariableHolder object at 0x7fe944ffd210>\n",
      "    scatter_frac   : <bolo.cfg.VariableHolder object at 0x7fe944ffd410>\n"
     ]
    }
   ],
   "source": [
    "print(top.instrument.optics.primary)"
   ]
  },
  {
   "cell_type": "markdown",
   "id": "linear-ensemble",
   "metadata": {},
   "source": [
    "#### Ok, now try accessing a value, changing the value, etc..."
   ]
  },
  {
   "cell_type": "code",
   "execution_count": 14,
   "id": "generous-dodge",
   "metadata": {},
   "outputs": [
    {
     "name": "stdout",
     "output_type": "stream",
     "text": [
      "Orig:    3.53e+11\n",
      "Changed: 3.65e+11\n"
     ]
    }
   ],
   "source": [
    "# access the value\n",
    "top.universe.dust.scale_frequency()\n",
    "print(\"Orig:    %.3g\" % top.universe.dust.scale_frequency())\n",
    "# change the value\n",
    "top.universe.dust.scale_frequency = 365.\n",
    "print(\"Changed: %.3g\" % top.universe.dust.scale_frequency())"
   ]
  },
  {
   "cell_type": "markdown",
   "id": "japanese-chair",
   "metadata": {},
   "source": [
    "### Updating parameters\n",
    "\n",
    "Two methods allow use to manipulate the configuration objects\n",
    "1. todict() will convert an object (and all its children) to a nested python dictionary\n",
    "2. update() will update an object (and all its children) from a nested python dictionary "
   ]
  },
  {
   "cell_type": "code",
   "execution_count": 15,
   "id": "forbidden-advertiser",
   "metadata": {
    "scrolled": true
   },
   "outputs": [
    {
     "name": "stdout",
     "output_type": "stream",
     "text": [
      "<class 'bolo.sky.Synchrotron'>\n",
      "  Parameters:\n",
      "    amplitude       : <bolo.cfg.VariableHolder object at 0x7fe944ffa150>\n",
      "    spectral_index  : <cfgmdl.param_holder.ParamHolder object at 0x7fe944ffa0d0>\n",
      "    scale_frequency : <cfgmdl.param_holder.ParamHolder object at 0x7fe944ffa2d0>\n",
      "    emiss           : <cfgmdl.param_holder.ParamHolder object at 0x7fe944ffa550>\n"
     ]
    },
    {
     "data": {
      "text/plain": [
       "OrderedDict([('amplitude',\n",
       "              OrderedDict([('fname', None),\n",
       "                           ('var_type', 'const'),\n",
       "                           ('value', array(0.0002)),\n",
       "                           ('errors', array(nan)),\n",
       "                           ('bounds', array(nan)),\n",
       "                           ('scale', array(1.)),\n",
       "                           ('free', array(False)),\n",
       "                           ('unit', <cfgmdl.unit.Unit at 0x7fe944ffa110>)])),\n",
       "             ('spectral_index',\n",
       "              OrderedDict([('value', array(-3.)),\n",
       "                           ('errors', array(nan)),\n",
       "                           ('bounds', array(nan)),\n",
       "                           ('scale', array(1.)),\n",
       "                           ('free', array(False)),\n",
       "                           ('unit', None)])),\n",
       "             ('scale_frequency',\n",
       "              OrderedDict([('value', array(30.)),\n",
       "                           ('errors', array(nan)),\n",
       "                           ('bounds', array(nan)),\n",
       "                           ('scale', array(1.)),\n",
       "                           ('free', array(False)),\n",
       "                           ('unit', <cfgmdl.unit.Unit at 0x7fe944ffa210>)])),\n",
       "             ('emiss',\n",
       "              OrderedDict([('value', array(1.)),\n",
       "                           ('errors', array(nan)),\n",
       "                           ('bounds', array(nan)),\n",
       "                           ('scale', array(1.)),\n",
       "                           ('free', array(False)),\n",
       "                           ('unit', None)]))])"
      ]
     },
     "execution_count": 15,
     "metadata": {},
     "output_type": "execute_result"
    }
   ],
   "source": [
    "val_dict = top.universe.synchrotron.todict()\n",
    "print(top.universe.synchrotron)\n",
    "val_dict"
   ]
  },
  {
   "cell_type": "code",
   "execution_count": 16,
   "id": "applicable-organic",
   "metadata": {},
   "outputs": [
    {
     "name": "stdout",
     "output_type": "stream",
     "text": [
      "<class 'bolo.sky.Synchrotron'>\n",
      "  Parameters:\n",
      "    amplitude       : <bolo.cfg.VariableHolder object at 0x7fe944ffa150>\n",
      "    spectral_index  : <cfgmdl.param_holder.ParamHolder object at 0x7fe944ffa0d0>\n",
      "    scale_frequency : <cfgmdl.param_holder.ParamHolder object at 0x7fe944ffa2d0>\n",
      "    emiss           : <cfgmdl.param_holder.ParamHolder object at 0x7fe944ffa550>\n"
     ]
    }
   ],
   "source": [
    "val_dict['spectral_index'] = 2.\n",
    "val_dict['amplitude'] = 0.0003\n",
    "top.universe.synchrotron.update(**val_dict)\n",
    "print(top.universe.synchrotron)"
   ]
  },
  {
   "cell_type": "markdown",
   "id": "julian-spencer",
   "metadata": {},
   "source": [
    "#### Ok, now try setting an illegal value"
   ]
  },
  {
   "cell_type": "code",
   "execution_count": 17,
   "id": "federal-basis",
   "metadata": {},
   "outputs": [
    {
     "name": "stdout",
     "output_type": "stream",
     "text": [
      "Caught Failed to set <cfgmdl.param_holder.ParamHolder object at 0x7fe944fea710> _value could not convert string to float: 'afda'\n"
     ]
    }
   ],
   "source": [
    "save_val = top.universe.dust.scale_frequency.value\n",
    "try: \n",
    "    top.universe.dust.scale_frequency = \"afda\"\n",
    "except TypeError as msg:\n",
    "    print(\"Caught %s\" % msg)\n",
    "else: \n",
    "    raise TypeError(\"Failed to catch TypeError\")\n",
    "#print(\"Value is set to %s\" % top.universe.dust.scale_frequency\n",
    "top.universe.dust.scale_frequency = save_val"
   ]
  },
  {
   "cell_type": "markdown",
   "id": "breathing-gasoline",
   "metadata": {},
   "source": [
    "#### Use this cell to play around with the python structure"
   ]
  },
  {
   "cell_type": "code",
   "execution_count": null,
   "id": "fresh-tracy",
   "metadata": {},
   "outputs": [],
   "source": []
  },
  {
   "cell_type": "markdown",
   "id": "tribal-sterling",
   "metadata": {},
   "source": [
    "## Ok, now run the data"
   ]
  },
  {
   "cell_type": "code",
   "execution_count": 18,
   "id": "bibliographic-deposit",
   "metadata": {},
   "outputs": [],
   "source": [
    "top.run()"
   ]
  },
  {
   "cell_type": "markdown",
   "id": "gorgeous-robertson",
   "metadata": {},
   "source": [
    "### Let's print a high-level summary of results"
   ]
  },
  {
   "cell_type": "code",
   "execution_count": 19,
   "id": "clean-issue",
   "metadata": {},
   "outputs": [
    {
     "name": "stdout",
     "output_type": "stream",
     "text": [
      "cam_1_chan_1 ---------\n",
      "effic                : 0.167 +- [0 0] \n",
      "opt_power            : 7.15 +- [0 0] \n",
      "tel_rj_temp          : 17 +- [0 0] \n",
      "sky_rj_temp          : 44.7 +- [0 0] \n",
      "NEP_bolo             : 18.9 +- [0 0] \n",
      "NEP_read             : 45.3 +- [0 0] \n",
      "NEP_ph               : 97 +- [0 0] \n",
      "NEP_ph_corr          : 97 +- [0 0] \n",
      "NEP                  : 109 +- [0 0] \n",
      "NEP_corr             : 109 +- [0 0] \n",
      "NET                  : 22.1 +- [0 0] \n",
      "NET_corr             : 22.1 +- [0 0] \n",
      "NET_RJ               : 17.1 +- [0 0] \n",
      "NET_corr_RJ          : 17.1 +- [0 0] \n",
      "NET_arr              : 0.654 +- [0 0] \n",
      "NET_arr_RJ           : 0.508 +- [0 0] \n",
      "corr_fact            : 1 +- [0 0] \n",
      "map_depth            : 0.449 +- [0 0] \n",
      "map_depth_RJ         : 0.348 +- [0 0] \n",
      "---------\n",
      "cam_1_chan_2 ---------\n",
      "effic                : 0.149 +- [0 0] \n",
      "opt_power            : 4.86 +- [0 0] \n",
      "tel_rj_temp          : 16.9 +- [0 0] \n",
      "sky_rj_temp          : 16.8 +- [0 0] \n",
      "NEP_bolo             : 15.6 +- [0 0] \n",
      "NEP_read             : 28.7 +- [0 0] \n",
      "NEP_ph               : 46.6 +- [0 0] \n",
      "NEP_ph_corr          : 46.6 +- [0 0] \n",
      "NEP                  : 56.9 +- [0 0] \n",
      "NEP_corr             : 56.9 +- [0 0] \n",
      "NET                  : 11.5 +- [0 0] \n",
      "NET_corr             : 11.5 +- [0 0] \n",
      "NET_RJ               : 6.61 +- [0 0] \n",
      "NET_corr_RJ          : 6.61 +- [0 0] \n",
      "NET_arr              : 0.34 +- [0 0] \n",
      "NET_arr_RJ           : 0.196 +- [0 0] \n",
      "corr_fact            : 1 +- [0 0] \n",
      "map_depth            : 0.233 +- [0 0] \n",
      "map_depth_RJ         : 0.134 +- [0 0] \n",
      "---------\n",
      "cam_2_chan_1 ---------\n",
      "effic                : 0.167 +- [0 0] \n",
      "opt_power            : 7.15 +- [0 0] \n",
      "tel_rj_temp          : 17 +- [0 0] \n",
      "sky_rj_temp          : 44.7 +- [0 0] \n",
      "NEP_bolo             : 18.9 +- [0 0] \n",
      "NEP_read             : 45.3 +- [0 0] \n",
      "NEP_ph               : 97 +- [0 0] \n",
      "NEP_ph_corr          : 97 +- [0 0] \n",
      "NEP                  : 109 +- [0 0] \n",
      "NEP_corr             : 109 +- [0 0] \n",
      "NET                  : 22.1 +- [0 0] \n",
      "NET_corr             : 22.1 +- [0 0] \n",
      "NET_RJ               : 17.1 +- [0 0] \n",
      "NET_corr_RJ          : 17.1 +- [0 0] \n",
      "NET_arr              : 0.654 +- [0 0] \n",
      "NET_arr_RJ           : 0.508 +- [0 0] \n",
      "corr_fact            : 1 +- [0 0] \n",
      "map_depth            : 0.449 +- [0 0] \n",
      "map_depth_RJ         : 0.348 +- [0 0] \n",
      "---------\n",
      "cam_2_chan_2 ---------\n",
      "effic                : 0.149 +- [0 0] \n",
      "opt_power            : 4.86 +- [0 0] \n",
      "tel_rj_temp          : 16.9 +- [0 0] \n",
      "sky_rj_temp          : 16.8 +- [0 0] \n",
      "NEP_bolo             : 15.6 +- [0 0] \n",
      "NEP_read             : 28.7 +- [0 0] \n",
      "NEP_ph               : 46.6 +- [0 0] \n",
      "NEP_ph_corr          : 46.6 +- [0 0] \n",
      "NEP                  : 56.9 +- [0 0] \n",
      "NEP_corr             : 56.9 +- [0 0] \n",
      "NET                  : 11.5 +- [0 0] \n",
      "NET_corr             : 11.5 +- [0 0] \n",
      "NET_RJ               : 6.61 +- [0 0] \n",
      "NET_corr_RJ          : 6.61 +- [0 0] \n",
      "NET_arr              : 0.34 +- [0 0] \n",
      "NET_arr_RJ           : 0.196 +- [0 0] \n",
      "corr_fact            : 1 +- [0 0] \n",
      "map_depth            : 0.233 +- [0 0] \n",
      "map_depth_RJ         : 0.134 +- [0 0] \n",
      "---------\n"
     ]
    }
   ],
   "source": [
    "top.instrument.print_summary()"
   ]
  },
  {
   "cell_type": "markdown",
   "id": "loving-oregon",
   "metadata": {},
   "source": [
    "### Let's get the data"
   ]
  },
  {
   "cell_type": "code",
   "execution_count": 20,
   "id": "coordinated-possession",
   "metadata": {},
   "outputs": [],
   "source": [
    "tabs = top.instrument.tables"
   ]
  },
  {
   "cell_type": "code",
   "execution_count": 21,
   "id": "color-mozambique",
   "metadata": {},
   "outputs": [
    {
     "data": {
      "text/plain": [
       "dict_keys(['cam_1_chan_1_sims', 'cam_1_chan_2_sims', 'cam_2_chan_1_sims', 'cam_2_chan_2_sims'])"
      ]
     },
     "execution_count": 21,
     "metadata": {},
     "output_type": "execute_result"
    }
   ],
   "source": [
    "tabs.keys()"
   ]
  },
  {
   "cell_type": "code",
   "execution_count": 22,
   "id": "desperate-cancer",
   "metadata": {},
   "outputs": [
    {
     "ename": "KeyError",
     "evalue": "'summary'",
     "output_type": "error",
     "traceback": [
      "\u001b[0;31m---------------------------------------------------------------------------\u001b[0m",
      "\u001b[0;31mKeyError\u001b[0m                                  Traceback (most recent call last)",
      "\u001b[0;32m<ipython-input-22-8a122d73bef6>\u001b[0m in \u001b[0;36m<module>\u001b[0;34m\u001b[0m\n\u001b[0;32m----> 1\u001b[0;31m \u001b[0mtabs\u001b[0m\u001b[0;34m[\u001b[0m\u001b[0;34m'summary'\u001b[0m\u001b[0;34m]\u001b[0m\u001b[0;34m\u001b[0m\u001b[0;34m\u001b[0m\u001b[0m\n\u001b[0m",
      "\u001b[0;32m~/software/cmbS4/bolo-calc/python/bolo/data_utils.py\u001b[0m in \u001b[0;36m__getitem__\u001b[0;34m(self, key)\u001b[0m\n\u001b[1;32m     87\u001b[0m     \u001b[0;32mdef\u001b[0m \u001b[0m__getitem__\u001b[0m\u001b[0;34m(\u001b[0m\u001b[0mself\u001b[0m\u001b[0;34m,\u001b[0m \u001b[0mkey\u001b[0m\u001b[0;34m)\u001b[0m\u001b[0;34m:\u001b[0m\u001b[0;34m\u001b[0m\u001b[0;34m\u001b[0m\u001b[0m\n\u001b[1;32m     88\u001b[0m         \u001b[0;34m\"\"\"Return a `Table` by name\"\"\"\u001b[0m\u001b[0;34m\u001b[0m\u001b[0;34m\u001b[0m\u001b[0m\n\u001b[0;32m---> 89\u001b[0;31m         \u001b[0;32mreturn\u001b[0m \u001b[0mself\u001b[0m\u001b[0;34m.\u001b[0m\u001b[0m_table_dict\u001b[0m\u001b[0;34m[\u001b[0m\u001b[0mkey\u001b[0m\u001b[0;34m]\u001b[0m\u001b[0;34m\u001b[0m\u001b[0;34m\u001b[0m\u001b[0m\n\u001b[0m\u001b[1;32m     90\u001b[0m \u001b[0;34m\u001b[0m\u001b[0m\n\u001b[1;32m     91\u001b[0m     \u001b[0;32mdef\u001b[0m \u001b[0mget_table\u001b[0m\u001b[0;34m(\u001b[0m\u001b[0mself\u001b[0m\u001b[0;34m,\u001b[0m \u001b[0mkey\u001b[0m\u001b[0;34m)\u001b[0m\u001b[0;34m:\u001b[0m\u001b[0;34m\u001b[0m\u001b[0;34m\u001b[0m\u001b[0m\n",
      "\u001b[0;31mKeyError\u001b[0m: 'summary'"
     ]
    }
   ],
   "source": [
    "tabs['summary']"
   ]
  },
  {
   "cell_type": "code",
   "execution_count": null,
   "id": "successful-synthesis",
   "metadata": {},
   "outputs": [],
   "source": [
    "tabs['cam_1_chan_1_sims']"
   ]
  },
  {
   "cell_type": "markdown",
   "id": "fleet-proxy",
   "metadata": {},
   "source": [
    "### Let's plot a distribution"
   ]
  },
  {
   "cell_type": "code",
   "execution_count": null,
   "id": "stunning-interstate",
   "metadata": {},
   "outputs": [],
   "source": [
    "bins = np.linspace(0.0, 25., 26)\n",
    "fig = plt.figure()\n",
    "ax = fig.add_subplot(111)\n",
    "ax.set_xlim(bins[0], bins[-1])\n",
    "ax.set_xlabel('Optical Power [pW]')\n",
    "ax.set_ylabel('Realizations / pW')\n",
    "for chan in ['cam_1_chan_1', 'cam_1_chan_2', 'cam_2_chan_1', 'cam_2_chan_2']:\n",
    "    ax.hist(tabs['%s_sims' % chan]['opt_power'], bins, label=chan, alpha=0.5)\n",
    "leg = fig.legend()"
   ]
  },
  {
   "cell_type": "code",
   "execution_count": null,
   "id": "compact-nurse",
   "metadata": {},
   "outputs": [],
   "source": []
  }
 ],
 "metadata": {
  "kernelspec": {
   "display_name": "Python 3",
   "language": "python",
   "name": "python3"
  },
  "language_info": {
   "codemirror_mode": {
    "name": "ipython",
    "version": 3
   },
   "file_extension": ".py",
   "mimetype": "text/x-python",
   "name": "python",
   "nbconvert_exporter": "python",
   "pygments_lexer": "ipython3",
   "version": "3.7.9"
  }
 },
 "nbformat": 4,
 "nbformat_minor": 5
}
