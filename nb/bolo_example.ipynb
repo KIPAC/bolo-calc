{
 "cells": [
  {
   "cell_type": "code",
   "execution_count": null,
   "id": "threaded-prisoner",
   "metadata": {},
   "outputs": [],
   "source": [
    "import yaml\n",
    "from bolo.model.top import Top"
   ]
  },
  {
   "cell_type": "code",
   "execution_count": null,
   "id": "solved-basics",
   "metadata": {},
   "outputs": [],
   "source": [
    "dd = yaml.safe_load(open('../config/myExample.yaml'))"
   ]
  },
  {
   "cell_type": "code",
   "execution_count": null,
   "id": "everyday-observer",
   "metadata": {},
   "outputs": [],
   "source": [
    "dd"
   ]
  },
  {
   "cell_type": "code",
   "execution_count": null,
   "id": "sensitive-winner",
   "metadata": {},
   "outputs": [],
   "source": [
    "top = Top(**dd)"
   ]
  },
  {
   "cell_type": "code",
   "execution_count": null,
   "id": "breathing-nelson",
   "metadata": {},
   "outputs": [],
   "source": [
    "top"
   ]
  },
  {
   "cell_type": "code",
   "execution_count": null,
   "id": "worthy-ivory",
   "metadata": {},
   "outputs": [],
   "source": [
    "top._params"
   ]
  },
  {
   "cell_type": "code",
   "execution_count": null,
   "id": "vanilla-disco",
   "metadata": {},
   "outputs": [],
   "source": [
    "top.universe"
   ]
  },
  {
   "cell_type": "code",
   "execution_count": null,
   "id": "conservative-columbus",
   "metadata": {},
   "outputs": [],
   "source": [
    "top.universe._params"
   ]
  },
  {
   "cell_type": "code",
   "execution_count": null,
   "id": "canadian-flooring",
   "metadata": {},
   "outputs": [],
   "source": [
    "top.universe.dust"
   ]
  },
  {
   "cell_type": "code",
   "execution_count": null,
   "id": "separate-thinking",
   "metadata": {},
   "outputs": [],
   "source": [
    "top.universe.dust._params"
   ]
  },
  {
   "cell_type": "code",
   "execution_count": null,
   "id": "generous-dodge",
   "metadata": {},
   "outputs": [],
   "source": [
    "top.universe.dust.scale_frequency"
   ]
  },
  {
   "cell_type": "code",
   "execution_count": null,
   "id": "demanding-sterling",
   "metadata": {},
   "outputs": [],
   "source": [
    "top.universe.dust.scale_frequency *= 1.1"
   ]
  },
  {
   "cell_type": "code",
   "execution_count": null,
   "id": "fundamental-potato",
   "metadata": {},
   "outputs": [],
   "source": [
    "top.universe.dust.scale_frequency"
   ]
  },
  {
   "cell_type": "code",
   "execution_count": null,
   "id": "federal-basis",
   "metadata": {},
   "outputs": [],
   "source": [
    "try: \n",
    "    top.universe.dust.scale_frequency = \"afda\"\n",
    "except TypeError as msg:\n",
    "    print(\"Caught %s\" % msg)"
   ]
  },
  {
   "cell_type": "code",
   "execution_count": null,
   "id": "thrown-manufacturer",
   "metadata": {},
   "outputs": [],
   "source": [
    "top.universe.dust.scale_frequency"
   ]
  },
  {
   "cell_type": "code",
   "execution_count": null,
   "id": "gross-albany",
   "metadata": {},
   "outputs": [],
   "source": [
    "top.universe.synchrotron.scale_frequency = dict(value=30.E+9)"
   ]
  },
  {
   "cell_type": "code",
   "execution_count": null,
   "id": "recorded-switch",
   "metadata": {},
   "outputs": [],
   "source": [
    "top.universe.synchrotron.temp(1e14, 1.)"
   ]
  },
  {
   "cell_type": "code",
   "execution_count": null,
   "id": "apart-effects",
   "metadata": {},
   "outputs": [],
   "source": [
    "top.universe.synchrotron.temp([1e14, 2e14], 1.)"
   ]
  },
  {
   "cell_type": "code",
   "execution_count": null,
   "id": "foster-silicon",
   "metadata": {},
   "outputs": [],
   "source": [
    "top.universe.synchrotron.temp([1e14, 2e14], [[1.], [1.2]])"
   ]
  },
  {
   "cell_type": "code",
   "execution_count": null,
   "id": "sticky-vacuum",
   "metadata": {},
   "outputs": [],
   "source": [
    "top.universe.synchrotron.temp.grad(1e14, 1., argnums=[0,1,2])"
   ]
  },
  {
   "cell_type": "code",
   "execution_count": null,
   "id": "direct-mozambique",
   "metadata": {},
   "outputs": [],
   "source": [
    "top.universe.synchrotron.temp.grad([1e14, 2e14], 1., argnums=[0,1,2])"
   ]
  },
  {
   "cell_type": "code",
   "execution_count": null,
   "id": "found-yield",
   "metadata": {},
   "outputs": [],
   "source": [
    "top.universe.synchrotron.temp.grad([1e14, 2e14], [[1.], [1.2]], argnums=[0,1,2])"
   ]
  },
  {
   "cell_type": "code",
   "execution_count": null,
   "id": "rural-being",
   "metadata": {},
   "outputs": [],
   "source": [
    "val_dict = dd['universe']['dust']"
   ]
  },
  {
   "cell_type": "code",
   "execution_count": null,
   "id": "constitutional-treaty",
   "metadata": {},
   "outputs": [],
   "source": [
    "val_dict"
   ]
  },
  {
   "cell_type": "code",
   "execution_count": null,
   "id": "indian-engine",
   "metadata": {},
   "outputs": [],
   "source": [
    "top.universe.synchrotron.todict()"
   ]
  },
  {
   "cell_type": "code",
   "execution_count": null,
   "id": "applicable-organic",
   "metadata": {},
   "outputs": [],
   "source": [
    "top.universe.synchrotron = val_dict"
   ]
  },
  {
   "cell_type": "code",
   "execution_count": null,
   "id": "electronic-branch",
   "metadata": {},
   "outputs": [],
   "source": [
    "top.universe.synchrotron.todict()"
   ]
  },
  {
   "cell_type": "code",
   "execution_count": null,
   "id": "driven-excerpt",
   "metadata": {},
   "outputs": [],
   "source": [
    "top.universe.synchrotron"
   ]
  },
  {
   "cell_type": "code",
   "execution_count": null,
   "id": "competent-mountain",
   "metadata": {},
   "outputs": [],
   "source": [
    "top.instrument.optics"
   ]
  },
  {
   "cell_type": "code",
   "execution_count": null,
   "id": "clean-track",
   "metadata": {},
   "outputs": [],
   "source": []
  }
 ],
 "metadata": {
  "kernelspec": {
   "display_name": "Python 3",
   "language": "python",
   "name": "python3"
  },
  "language_info": {
   "codemirror_mode": {
    "name": "ipython",
    "version": 3
   },
   "file_extension": ".py",
   "mimetype": "text/x-python",
   "name": "python",
   "nbconvert_exporter": "python",
   "pygments_lexer": "ipython3",
   "version": "3.7.9"
  }
 },
 "nbformat": 4,
 "nbformat_minor": 5
}
