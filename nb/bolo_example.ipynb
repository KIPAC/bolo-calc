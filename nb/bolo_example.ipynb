{
 "cells": [
  {
   "cell_type": "markdown",
   "id": "suspected-nurse",
   "metadata": {},
   "source": [
    "# Example notebook for bolo-calc\n",
    "\n",
    "In this notebook we will\n",
    "  1. Use a configuration file to build a bolo python data structure\n",
    "  2. Explore the resulting data structure and how we can modifiy it\n",
    "  3. Run the analysis and look at the output"
   ]
  },
  {
   "cell_type": "markdown",
   "id": "computational-tuesday",
   "metadata": {},
   "source": [
    "## Basics"
   ]
  },
  {
   "cell_type": "code",
   "execution_count": null,
   "id": "assigned-clinton",
   "metadata": {},
   "outputs": [],
   "source": [
    "# Standard imports\n",
    "import yaml\n",
    "from bolo import Top"
   ]
  },
  {
   "cell_type": "markdown",
   "id": "amazing-toyota",
   "metadata": {},
   "source": [
    "#### Read a yaml file into a python dictionary"
   ]
  },
  {
   "cell_type": "code",
   "execution_count": null,
   "id": "solved-basics",
   "metadata": {},
   "outputs": [],
   "source": [
    "dd = yaml.safe_load(open('../config/myExample.yaml'))\n",
    "dd"
   ]
  },
  {
   "cell_type": "markdown",
   "id": "divided-brave",
   "metadata": {},
   "source": [
    "#### Use the python dictionary to construct a top-level bolo object"
   ]
  },
  {
   "cell_type": "code",
   "execution_count": null,
   "id": "southeast-birthday",
   "metadata": {},
   "outputs": [],
   "source": [
    "top = Top(**dd)"
   ]
  },
  {
   "cell_type": "markdown",
   "id": "described-priest",
   "metadata": {},
   "source": [
    "## Exploring the resulting object\n",
    "\n",
    "Note the different between a few different ways to print and object. 1 and 2 are equivalent, as are 3 and 4.\n",
    "\n",
    "    1. top # Asking the python interpreter to print the representation of object\n",
    "    2. print(repr(top) # Explicitly printing the representation of the object\n",
    "    3. print(top) # Print the object\n",
    "    4. print(str(top)) # Convert the object to a string and print that\n"
   ]
  },
  {
   "cell_type": "code",
   "execution_count": null,
   "id": "sensitive-winner",
   "metadata": {},
   "outputs": [],
   "source": [
    "top"
   ]
  },
  {
   "cell_type": "code",
   "execution_count": null,
   "id": "breathing-nelson",
   "metadata": {},
   "outputs": [],
   "source": [
    "print(repr(top))"
   ]
  },
  {
   "cell_type": "code",
   "execution_count": null,
   "id": "worthy-ivory",
   "metadata": {},
   "outputs": [],
   "source": [
    "print(top)"
   ]
  },
  {
   "cell_type": "code",
   "execution_count": null,
   "id": "varying-turner",
   "metadata": {},
   "outputs": [],
   "source": [
    "print(str(top))"
   ]
  },
  {
   "cell_type": "markdown",
   "id": "metropolitan-construction",
   "metadata": {},
   "source": [
    "#### Ok, lets work our way down the hierarchy\n",
    "\n",
    "I've left an open cell for you to play with things like tab-completion"
   ]
  },
  {
   "cell_type": "code",
   "execution_count": null,
   "id": "canadian-flooring",
   "metadata": {},
   "outputs": [],
   "source": [
    "print(top.universe)"
   ]
  },
  {
   "cell_type": "code",
   "execution_count": null,
   "id": "separate-thinking",
   "metadata": {},
   "outputs": [],
   "source": [
    "print(str(top.universe.dust))"
   ]
  },
  {
   "cell_type": "code",
   "execution_count": null,
   "id": "arctic-lafayette",
   "metadata": {},
   "outputs": [],
   "source": [
    "print(top.instrument)"
   ]
  },
  {
   "cell_type": "code",
   "execution_count": null,
   "id": "cleared-precipitation",
   "metadata": {},
   "outputs": [],
   "source": [
    "print(top.instrument.optics)"
   ]
  },
  {
   "cell_type": "code",
   "execution_count": null,
   "id": "concerned-layout",
   "metadata": {},
   "outputs": [],
   "source": [
    "print(top.instrument.optics.primary)"
   ]
  },
  {
   "cell_type": "markdown",
   "id": "israeli-outside",
   "metadata": {},
   "source": [
    "#### Ok, now try accessing a value, changing the value, etc..."
   ]
  },
  {
   "cell_type": "code",
   "execution_count": null,
   "id": "generous-dodge",
   "metadata": {},
   "outputs": [],
   "source": [
    "# access the value\n",
    "top.universe.dust.scale_frequency\n",
    "print(\"Orig:    %.3g\" % top.universe.dust.scale_frequency)\n",
    "# change the value\n",
    "top.universe.dust.scale_frequency = 365.\n",
    "print(\"Changed: %.3g\" % top.universe.dust.scale_frequency)"
   ]
  },
  {
   "cell_type": "markdown",
   "id": "hungarian-bruce",
   "metadata": {},
   "source": [
    "### Updating parameters\n",
    "\n",
    "Two methods allow use to manipulate the configuration objects\n",
    "1. todict() will convert an object (and all its children) to a nested python dictionary\n",
    "2. update() will update an object (and all its children) from a nested python dictionary "
   ]
  },
  {
   "cell_type": "code",
   "execution_count": null,
   "id": "sunset-integral",
   "metadata": {
    "scrolled": true
   },
   "outputs": [],
   "source": [
    "val_dict = top.universe.synchrotron.todict()\n",
    "print(top.universe.synchrotron)\n",
    "val_dict"
   ]
  },
  {
   "cell_type": "code",
   "execution_count": null,
   "id": "applicable-organic",
   "metadata": {},
   "outputs": [],
   "source": [
    "val_dict['spectral_index'] = 2.\n",
    "val_dict['amplitude'] = 0.0003\n",
    "top.universe.synchrotron.update(**val_dict)\n",
    "print(top.universe.synchrotron)"
   ]
  },
  {
   "cell_type": "markdown",
   "id": "respiratory-millennium",
   "metadata": {},
   "source": [
    "#### Ok, now try setting an illegal value"
   ]
  },
  {
   "cell_type": "code",
   "execution_count": null,
   "id": "federal-basis",
   "metadata": {},
   "outputs": [],
   "source": [
    "save_val = top.universe.dust.scale_frequency\n",
    "try: \n",
    "    top.universe.dust.scale_frequency = \"afda\"\n",
    "except TypeError as msg:\n",
    "    print(\"Caught %s\" % msg)\n",
    "else: \n",
    "    raise TypeError(\"Failed to catch TypeError\")\n",
    "print(\"Value is set to %s\" % top.universe.dust.scale_frequency)\n",
    "top.universe.dust.scale_frequency = save_val"
   ]
  },
  {
   "cell_type": "markdown",
   "id": "organizational-receptor",
   "metadata": {},
   "source": [
    "#### Use this cell to play around with the python structure"
   ]
  },
  {
   "cell_type": "code",
   "execution_count": null,
   "id": "flexible-watts",
   "metadata": {},
   "outputs": [],
   "source": []
  },
  {
   "cell_type": "markdown",
   "id": "dressed-satin",
   "metadata": {},
   "source": [
    "## Ok, now run the data"
   ]
  },
  {
   "cell_type": "code",
   "execution_count": null,
   "id": "accepting-vertical",
   "metadata": {},
   "outputs": [],
   "source": [
    "top.run()"
   ]
  },
  {
   "cell_type": "markdown",
   "id": "failing-naples",
   "metadata": {},
   "source": [
    "### Lets print a high-level summary of results"
   ]
  },
  {
   "cell_type": "code",
   "execution_count": null,
   "id": "solved-niagara",
   "metadata": {},
   "outputs": [],
   "source": [
    "top.instrument.print_summary()"
   ]
  },
  {
   "cell_type": "markdown",
   "id": "narrow-screw",
   "metadata": {},
   "source": [
    "### Let's get the data"
   ]
  },
  {
   "cell_type": "code",
   "execution_count": null,
   "id": "adequate-survey",
   "metadata": {},
   "outputs": [],
   "source": [
    "tabs = top.instrument.tables"
   ]
  },
  {
   "cell_type": "code",
   "execution_count": null,
   "id": "gross-alliance",
   "metadata": {},
   "outputs": [],
   "source": [
    "tabs.keys()"
   ]
  },
  {
   "cell_type": "code",
   "execution_count": null,
   "id": "heard-reflection",
   "metadata": {},
   "outputs": [],
   "source": [
    "tabs['summary']"
   ]
  },
  {
   "cell_type": "code",
   "execution_count": null,
   "id": "exposed-politics",
   "metadata": {},
   "outputs": [],
   "source": []
  }
 ],
 "metadata": {
  "kernelspec": {
   "display_name": "Python 3",
   "language": "python",
   "name": "python3"
  },
  "language_info": {
   "codemirror_mode": {
    "name": "ipython",
    "version": 3
   },
   "file_extension": ".py",
   "mimetype": "text/x-python",
   "name": "python",
   "nbconvert_exporter": "python",
   "pygments_lexer": "ipython3",
   "version": "3.7.9"
  }
 },
 "nbformat": 4,
 "nbformat_minor": 5
}
