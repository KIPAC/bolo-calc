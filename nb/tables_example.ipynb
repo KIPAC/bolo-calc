{
 "cells": [
  {
   "cell_type": "markdown",
   "id": "outdoor-powell",
   "metadata": {},
   "source": [
    "## Example notebook for bolo TableDict \n",
    "\n",
    "In this notebook we will\n",
    "\n",
    "    1. Read in a set of tables from a bolo-cacl output file\n",
    "    2. Explore the resulting data structres\n",
    "    3. Make some plots\n",
    "\n"
   ]
  },
  {
   "cell_type": "markdown",
   "id": "ahead-sleeve",
   "metadata": {},
   "source": [
    "#### import packages and setup"
   ]
  },
  {
   "cell_type": "code",
   "execution_count": null,
   "id": "demonstrated-stress",
   "metadata": {},
   "outputs": [],
   "source": [
    "import numpy as np\n",
    "import matplotlib\n",
    "import matplotlib.pyplot as plt\n",
    "%matplotlib inline  \n",
    "from bolo import TableDict"
   ]
  },
  {
   "cell_type": "markdown",
   "id": "false-limit",
   "metadata": {},
   "source": [
    "#### read in a file with some tables"
   ]
  },
  {
   "cell_type": "code",
   "execution_count": null,
   "id": "comparative-candidate",
   "metadata": {},
   "outputs": [],
   "source": [
    "td = TableDict('test.fits')"
   ]
  },
  {
   "cell_type": "markdown",
   "id": "internal-lunch",
   "metadata": {},
   "source": [
    "#### get the list of available tables"
   ]
  },
  {
   "cell_type": "code",
   "execution_count": null,
   "id": "perceived-fleet",
   "metadata": {},
   "outputs": [],
   "source": [
    "td.keys()"
   ]
  },
  {
   "cell_type": "markdown",
   "id": "cathedral-farmer",
   "metadata": {},
   "source": [
    "#### get a particular table"
   ]
  },
  {
   "cell_type": "code",
   "execution_count": null,
   "id": "composite-hostel",
   "metadata": {},
   "outputs": [],
   "source": [
    "tab_optical = td['optical']"
   ]
  },
  {
   "cell_type": "markdown",
   "id": "responsible-italian",
   "metadata": {},
   "source": [
    "#### Astropy table seems to have a built-in table formatter for jupyter"
   ]
  },
  {
   "cell_type": "code",
   "execution_count": null,
   "id": "passive-juvenile",
   "metadata": {},
   "outputs": [],
   "source": [
    "tab_optical"
   ]
  },
  {
   "cell_type": "markdown",
   "id": "straight-nurse",
   "metadata": {},
   "source": [
    "#### Filter a particular on a column"
   ]
  },
  {
   "cell_type": "code",
   "execution_count": null,
   "id": "personalized-manhattan",
   "metadata": {},
   "outputs": [],
   "source": [
    "mask = tab_optical['channel'] == 'cam_1_0'"
   ]
  },
  {
   "cell_type": "markdown",
   "id": "accepting-modeling",
   "metadata": {},
   "source": [
    "#### View the reduced table"
   ]
  },
  {
   "cell_type": "code",
   "execution_count": null,
   "id": "silent-magnet",
   "metadata": {},
   "outputs": [],
   "source": [
    "tab_optical[mask]"
   ]
  },
  {
   "cell_type": "markdown",
   "id": "french-watershed",
   "metadata": {},
   "source": [
    "#### Construct a reduced table using the mask."
   ]
  },
  {
   "cell_type": "code",
   "execution_count": null,
   "id": "incredible-blade",
   "metadata": {},
   "outputs": [],
   "source": [
    "tab_cam1 = tab_optical[mask]"
   ]
  },
  {
   "cell_type": "markdown",
   "id": "formed-navigator",
   "metadata": {},
   "source": [
    "#### View a particular column"
   ]
  },
  {
   "cell_type": "code",
   "execution_count": null,
   "id": "written-bloom",
   "metadata": {},
   "outputs": [],
   "source": [
    "tab_cam1['elem_effic_mean']"
   ]
  },
  {
   "cell_type": "markdown",
   "id": "solar-actress",
   "metadata": {},
   "source": [
    "### Let's remake the plot from bolo_example.ipynb"
   ]
  },
  {
   "cell_type": "code",
   "execution_count": null,
   "id": "special-matter",
   "metadata": {},
   "outputs": [],
   "source": [
    "bins = np.linspace(0.0, 12., 25)\n",
    "fig = plt.figure()\n",
    "ax = fig.add_subplot(111)\n",
    "ax.set_xlim(bins[0], bins[-1])\n",
    "ax.set_xlabel('Optical Power [pW]')\n",
    "ax.set_ylabel('Realizations / 0.5 pW')\n",
    "for chan in ['cam_1_chan_1', 'cam_1_chan_2', 'cam_2_chan_1', 'cam_2_chan_2']:\n",
    "    ax.hist(td['%s_sims' % chan]['opt_power'], bins, label=chan, alpha=0.5)\n",
    "leg = fig.legend()"
   ]
  },
  {
   "cell_type": "code",
   "execution_count": null,
   "id": "discrete-latvia",
   "metadata": {},
   "outputs": [],
   "source": []
  }
 ],
 "metadata": {
  "kernelspec": {
   "display_name": "Python 3",
   "language": "python",
   "name": "python3"
  },
  "language_info": {
   "codemirror_mode": {
    "name": "ipython",
    "version": 3
   },
   "file_extension": ".py",
   "mimetype": "text/x-python",
   "name": "python",
   "nbconvert_exporter": "python",
   "pygments_lexer": "ipython3",
   "version": "3.7.9"
  }
 },
 "nbformat": 4,
 "nbformat_minor": 5
}
